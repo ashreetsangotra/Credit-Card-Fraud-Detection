{
 "cells": [
  {
   "cell_type": "code",
   "execution_count": 1,
   "metadata": {},
   "outputs": [],
   "source": [
    "import numpy as np\n",
    "import pandas as pd\n",
    "import matplotlib.pyplot as plt\n",
    "import seaborn as sns\n",
    "\n",
    "#Pre-Processing, Model selection and Evaluation Libraries\n",
    "from sklearn.decomposition import PCA, TruncatedSVD\n",
    "from sklearn.manifold import TSNE #CPU wont be able to process large datasets with TSNE. Try GPU instead.\n",
    "from sklearn.preprocessing import StandardScaler, RobustScaler, MinMaxScaler\n",
    "\n",
    "from sklearn.model_selection import train_test_split, KFold,StratifiedKFold,StratifiedShuffleSplit,cross_val_score\n",
    "from sklearn.metrics import precision_score, recall_score, f1_score, confusion_matrix, roc_auc_score\n",
    "from sklearn.metrics import classification_report, accuracy_score\n",
    "from sklearn.pipeline import make_pipeline\n",
    "\n",
    "from imblearn.pipeline import make_pipeline as imbalanced_make_pipeline\n",
    "from imblearn.over_sampling import SMOTE, RandomOverSampler\n",
    "from imblearn.under_sampling import NearMiss, RandomUnderSampler\n",
    "from imblearn.metrics import classification_report_imbalanced\n",
    "\n",
    "#Classifiers\n",
    "from sklearn.linear_model import LogisticRegression\n",
    "from sklearn.tree import DecisionTreeClassifier\n",
    "from sklearn.ensemble import RandomForestClassifier\n",
    "from sklearn.svm import SVC\n",
    "from sklearn.neighbors import KNeighborsClassifier\n",
    "\n",
    "#Other Libraries\n",
    "import time \n",
    "import os\n",
    "from collections import Counter\n",
    "import warnings\n",
    "warnings.filterwarnings('ignore')"
   ]
  },
  {
   "cell_type": "markdown",
   "metadata": {},
   "source": [
    "# _I - Understanding the Data_"
   ]
  },
  {
   "cell_type": "markdown",
   "metadata": {},
   "source": [
    "### 1. Load and View the Data"
   ]
  },
  {
   "cell_type": "code",
   "execution_count": 2,
   "metadata": {},
   "outputs": [
    {
     "name": "stdout",
     "output_type": "stream",
     "text": [
      "(284807, 31)\n"
     ]
    },
    {
     "data": {
      "text/html": [
       "<div>\n",
       "<style scoped>\n",
       "    .dataframe tbody tr th:only-of-type {\n",
       "        vertical-align: middle;\n",
       "    }\n",
       "\n",
       "    .dataframe tbody tr th {\n",
       "        vertical-align: top;\n",
       "    }\n",
       "\n",
       "    .dataframe thead th {\n",
       "        text-align: right;\n",
       "    }\n",
       "</style>\n",
       "<table border=\"1\" class=\"dataframe\">\n",
       "  <thead>\n",
       "    <tr style=\"text-align: right;\">\n",
       "      <th></th>\n",
       "      <th>Time</th>\n",
       "      <th>V1</th>\n",
       "      <th>V2</th>\n",
       "      <th>V3</th>\n",
       "      <th>V4</th>\n",
       "      <th>V5</th>\n",
       "      <th>V6</th>\n",
       "      <th>V7</th>\n",
       "      <th>V8</th>\n",
       "      <th>V9</th>\n",
       "      <th>...</th>\n",
       "      <th>V21</th>\n",
       "      <th>V22</th>\n",
       "      <th>V23</th>\n",
       "      <th>V24</th>\n",
       "      <th>V25</th>\n",
       "      <th>V26</th>\n",
       "      <th>V27</th>\n",
       "      <th>V28</th>\n",
       "      <th>Amount</th>\n",
       "      <th>Class</th>\n",
       "    </tr>\n",
       "  </thead>\n",
       "  <tbody>\n",
       "    <tr>\n",
       "      <th>0</th>\n",
       "      <td>0.0</td>\n",
       "      <td>-1.359807</td>\n",
       "      <td>-0.072781</td>\n",
       "      <td>2.536347</td>\n",
       "      <td>1.378155</td>\n",
       "      <td>-0.338321</td>\n",
       "      <td>0.462388</td>\n",
       "      <td>0.239599</td>\n",
       "      <td>0.098698</td>\n",
       "      <td>0.363787</td>\n",
       "      <td>...</td>\n",
       "      <td>-0.018307</td>\n",
       "      <td>0.277838</td>\n",
       "      <td>-0.110474</td>\n",
       "      <td>0.066928</td>\n",
       "      <td>0.128539</td>\n",
       "      <td>-0.189115</td>\n",
       "      <td>0.133558</td>\n",
       "      <td>-0.021053</td>\n",
       "      <td>149.62</td>\n",
       "      <td>0</td>\n",
       "    </tr>\n",
       "    <tr>\n",
       "      <th>1</th>\n",
       "      <td>0.0</td>\n",
       "      <td>1.191857</td>\n",
       "      <td>0.266151</td>\n",
       "      <td>0.166480</td>\n",
       "      <td>0.448154</td>\n",
       "      <td>0.060018</td>\n",
       "      <td>-0.082361</td>\n",
       "      <td>-0.078803</td>\n",
       "      <td>0.085102</td>\n",
       "      <td>-0.255425</td>\n",
       "      <td>...</td>\n",
       "      <td>-0.225775</td>\n",
       "      <td>-0.638672</td>\n",
       "      <td>0.101288</td>\n",
       "      <td>-0.339846</td>\n",
       "      <td>0.167170</td>\n",
       "      <td>0.125895</td>\n",
       "      <td>-0.008983</td>\n",
       "      <td>0.014724</td>\n",
       "      <td>2.69</td>\n",
       "      <td>0</td>\n",
       "    </tr>\n",
       "    <tr>\n",
       "      <th>2</th>\n",
       "      <td>1.0</td>\n",
       "      <td>-1.358354</td>\n",
       "      <td>-1.340163</td>\n",
       "      <td>1.773209</td>\n",
       "      <td>0.379780</td>\n",
       "      <td>-0.503198</td>\n",
       "      <td>1.800499</td>\n",
       "      <td>0.791461</td>\n",
       "      <td>0.247676</td>\n",
       "      <td>-1.514654</td>\n",
       "      <td>...</td>\n",
       "      <td>0.247998</td>\n",
       "      <td>0.771679</td>\n",
       "      <td>0.909412</td>\n",
       "      <td>-0.689281</td>\n",
       "      <td>-0.327642</td>\n",
       "      <td>-0.139097</td>\n",
       "      <td>-0.055353</td>\n",
       "      <td>-0.059752</td>\n",
       "      <td>378.66</td>\n",
       "      <td>0</td>\n",
       "    </tr>\n",
       "    <tr>\n",
       "      <th>3</th>\n",
       "      <td>1.0</td>\n",
       "      <td>-0.966272</td>\n",
       "      <td>-0.185226</td>\n",
       "      <td>1.792993</td>\n",
       "      <td>-0.863291</td>\n",
       "      <td>-0.010309</td>\n",
       "      <td>1.247203</td>\n",
       "      <td>0.237609</td>\n",
       "      <td>0.377436</td>\n",
       "      <td>-1.387024</td>\n",
       "      <td>...</td>\n",
       "      <td>-0.108300</td>\n",
       "      <td>0.005274</td>\n",
       "      <td>-0.190321</td>\n",
       "      <td>-1.175575</td>\n",
       "      <td>0.647376</td>\n",
       "      <td>-0.221929</td>\n",
       "      <td>0.062723</td>\n",
       "      <td>0.061458</td>\n",
       "      <td>123.50</td>\n",
       "      <td>0</td>\n",
       "    </tr>\n",
       "    <tr>\n",
       "      <th>4</th>\n",
       "      <td>2.0</td>\n",
       "      <td>-1.158233</td>\n",
       "      <td>0.877737</td>\n",
       "      <td>1.548718</td>\n",
       "      <td>0.403034</td>\n",
       "      <td>-0.407193</td>\n",
       "      <td>0.095921</td>\n",
       "      <td>0.592941</td>\n",
       "      <td>-0.270533</td>\n",
       "      <td>0.817739</td>\n",
       "      <td>...</td>\n",
       "      <td>-0.009431</td>\n",
       "      <td>0.798278</td>\n",
       "      <td>-0.137458</td>\n",
       "      <td>0.141267</td>\n",
       "      <td>-0.206010</td>\n",
       "      <td>0.502292</td>\n",
       "      <td>0.219422</td>\n",
       "      <td>0.215153</td>\n",
       "      <td>69.99</td>\n",
       "      <td>0</td>\n",
       "    </tr>\n",
       "  </tbody>\n",
       "</table>\n",
       "<p>5 rows × 31 columns</p>\n",
       "</div>"
      ],
      "text/plain": [
       "   Time        V1        V2        V3        V4        V5        V6        V7  \\\n",
       "0   0.0 -1.359807 -0.072781  2.536347  1.378155 -0.338321  0.462388  0.239599   \n",
       "1   0.0  1.191857  0.266151  0.166480  0.448154  0.060018 -0.082361 -0.078803   \n",
       "2   1.0 -1.358354 -1.340163  1.773209  0.379780 -0.503198  1.800499  0.791461   \n",
       "3   1.0 -0.966272 -0.185226  1.792993 -0.863291 -0.010309  1.247203  0.237609   \n",
       "4   2.0 -1.158233  0.877737  1.548718  0.403034 -0.407193  0.095921  0.592941   \n",
       "\n",
       "         V8        V9  ...       V21       V22       V23       V24       V25  \\\n",
       "0  0.098698  0.363787  ... -0.018307  0.277838 -0.110474  0.066928  0.128539   \n",
       "1  0.085102 -0.255425  ... -0.225775 -0.638672  0.101288 -0.339846  0.167170   \n",
       "2  0.247676 -1.514654  ...  0.247998  0.771679  0.909412 -0.689281 -0.327642   \n",
       "3  0.377436 -1.387024  ... -0.108300  0.005274 -0.190321 -1.175575  0.647376   \n",
       "4 -0.270533  0.817739  ... -0.009431  0.798278 -0.137458  0.141267 -0.206010   \n",
       "\n",
       "        V26       V27       V28  Amount  Class  \n",
       "0 -0.189115  0.133558 -0.021053  149.62      0  \n",
       "1  0.125895 -0.008983  0.014724    2.69      0  \n",
       "2 -0.139097 -0.055353 -0.059752  378.66      0  \n",
       "3 -0.221929  0.062723  0.061458  123.50      0  \n",
       "4  0.502292  0.219422  0.215153   69.99      0  \n",
       "\n",
       "[5 rows x 31 columns]"
      ]
     },
     "execution_count": 2,
     "metadata": {},
     "output_type": "execute_result"
    }
   ],
   "source": [
    "df = pd.read_csv('creditcard.csv')\n",
    "print(df.shape)\n",
    "df.head()"
   ]
  },
  {
   "cell_type": "markdown",
   "metadata": {},
   "source": [
    "### 2. Check for Missing Values"
   ]
  },
  {
   "cell_type": "code",
   "execution_count": 3,
   "metadata": {},
   "outputs": [
    {
     "data": {
      "text/plain": [
       "0"
      ]
     },
     "execution_count": 3,
     "metadata": {},
     "output_type": "execute_result"
    }
   ],
   "source": [
    "# Checking for Null Values\n",
    "df.isna().sum().sum() "
   ]
  },
  {
   "cell_type": "markdown",
   "metadata": {},
   "source": [
    "### 3. Check for Class Imbalance"
   ]
  },
  {
   "cell_type": "code",
   "execution_count": 4,
   "metadata": {},
   "outputs": [
    {
     "name": "stdout",
     "output_type": "stream",
     "text": [
      "Non Fraud Cases: 99.83 %\n",
      "Fraud Cases: 0.17 %\n"
     ]
    }
   ],
   "source": [
    "# Checking Data Imbalance - Classes are heavily skewed\n",
    "print('Non Fraud Cases:',round(df.Class.value_counts(normalize = True)*100, 2)[0], '%')\n",
    "print('Fraud Cases:',round(df.Class.value_counts(normalize = True)*100, 2)[1], '%')"
   ]
  },
  {
   "cell_type": "code",
   "execution_count": 5,
   "metadata": {},
   "outputs": [
    {
     "data": {
      "image/png": "[encoded data removed]",
      "text/plain": [
       "<Figure size 864x432 with 1 Axes>"
      ]
     },
     "metadata": {
      "needs_background": "light"
     },
     "output_type": "display_data"
    }
   ],
   "source": [
    "# Plotting Class Imbalance\n",
    "plt.figure(figsize = (12,6))\n",
    "sns.countplot(df.Class,palette = sns.color_palette(\"Paired\", 3))\n",
    "plt.title('0: Non Fraud || 1: Fraud')\n",
    "plt.show()"
   ]
  },
  {
   "cell_type": "markdown",
   "metadata": {},
   "source": [
    "### 4. Distributions of Unscaled Features"
   ]
  },
  {
   "cell_type": "code",
   "execution_count": 6,
   "metadata": {},
   "outputs": [
    {
     "data": {
      "text/plain": [
       "Index(['Time', 'V1', 'V2', 'V3', 'V4', 'V5', 'V6', 'V7', 'V8', 'V9', 'V10',\n",
       "       'V11', 'V12', 'V13', 'V14', 'V15', 'V16', 'V17', 'V18', 'V19', 'V20',\n",
       "       'V21', 'V22', 'V23', 'V24', 'V25', 'V26', 'V27', 'V28', 'Amount',\n",
       "       'Class'],\n",
       "      dtype='object')"
      ]
     },
     "execution_count": 6,
     "metadata": {},
     "output_type": "execute_result"
    }
   ],
   "source": [
    "df.columns"
   ]
  },
  {
   "cell_type": "code",
   "execution_count": 7,
   "metadata": {},
   "outputs": [
    {
     "data": {
      "image/png": "[encoded data removed]",
      "text/plain": [
       "<Figure size 1296x288 with 2 Axes>"
      ]
     },
     "metadata": {
      "needs_background": "light"
     },
     "output_type": "display_data"
    }
   ],
   "source": [
    "# Checking Distributions of Known and Unscaled Featues - Time and Amount\n",
    "\n",
    "fig, ax = plt.subplots(1,2, figsize = (18,4))\n",
    "\n",
    "sns.distplot(df.Amount, ax = ax[0], color = 'r')\n",
    "ax[0].set_title('Transaction Amount Distribution')\n",
    "ax[0].set_xlim(min(df.Amount), max(df.Amount))\n",
    "\n",
    "sns.distplot(df.Time, ax = ax[1], color = 'b')\n",
    "ax[1].set_title('Transaction Time Distribution')\n",
    "ax[1].set_xlim(min(df.Time), max(df.Time))\n",
    "\n",
    "plt.show()"
   ]
  },
  {
   "cell_type": "markdown",
   "metadata": {},
   "source": [
    "# _II - Pre Processing_"
   ]
  },
  {
   "cell_type": "markdown",
   "metadata": {},
   "source": [
    "## A - Scaling and Distribution"
   ]
  },
  {
   "cell_type": "code",
   "execution_count": 8,
   "metadata": {},
   "outputs": [
    {
     "data": {
      "text/html": [
       "<div>\n",
       "<style scoped>\n",
       "    .dataframe tbody tr th:only-of-type {\n",
       "        vertical-align: middle;\n",
       "    }\n",
       "\n",
       "    .dataframe tbody tr th {\n",
       "        vertical-align: top;\n",
       "    }\n",
       "\n",
       "    .dataframe thead th {\n",
       "        text-align: right;\n",
       "    }\n",
       "</style>\n",
       "<table border=\"1\" class=\"dataframe\">\n",
       "  <thead>\n",
       "    <tr style=\"text-align: right;\">\n",
       "      <th></th>\n",
       "      <th>Amount</th>\n",
       "      <th>Time</th>\n",
       "      <th>V1</th>\n",
       "      <th>V2</th>\n",
       "      <th>V3</th>\n",
       "      <th>V4</th>\n",
       "      <th>V5</th>\n",
       "      <th>V6</th>\n",
       "      <th>V7</th>\n",
       "      <th>V8</th>\n",
       "      <th>...</th>\n",
       "      <th>V20</th>\n",
       "      <th>V21</th>\n",
       "      <th>V22</th>\n",
       "      <th>V23</th>\n",
       "      <th>V24</th>\n",
       "      <th>V25</th>\n",
       "      <th>V26</th>\n",
       "      <th>V27</th>\n",
       "      <th>V28</th>\n",
       "      <th>Class</th>\n",
       "    </tr>\n",
       "  </thead>\n",
       "  <tbody>\n",
       "    <tr>\n",
       "      <th>0</th>\n",
       "      <td>1.783274</td>\n",
       "      <td>-0.994983</td>\n",
       "      <td>-1.359807</td>\n",
       "      <td>-0.072781</td>\n",
       "      <td>2.536347</td>\n",
       "      <td>1.378155</td>\n",
       "      <td>-0.338321</td>\n",
       "      <td>0.462388</td>\n",
       "      <td>0.239599</td>\n",
       "      <td>0.098698</td>\n",
       "      <td>...</td>\n",
       "      <td>0.251412</td>\n",
       "      <td>-0.018307</td>\n",
       "      <td>0.277838</td>\n",
       "      <td>-0.110474</td>\n",
       "      <td>0.066928</td>\n",
       "      <td>0.128539</td>\n",
       "      <td>-0.189115</td>\n",
       "      <td>0.133558</td>\n",
       "      <td>-0.021053</td>\n",
       "      <td>0</td>\n",
       "    </tr>\n",
       "    <tr>\n",
       "      <th>1</th>\n",
       "      <td>-0.269825</td>\n",
       "      <td>-0.994983</td>\n",
       "      <td>1.191857</td>\n",
       "      <td>0.266151</td>\n",
       "      <td>0.166480</td>\n",
       "      <td>0.448154</td>\n",
       "      <td>0.060018</td>\n",
       "      <td>-0.082361</td>\n",
       "      <td>-0.078803</td>\n",
       "      <td>0.085102</td>\n",
       "      <td>...</td>\n",
       "      <td>-0.069083</td>\n",
       "      <td>-0.225775</td>\n",
       "      <td>-0.638672</td>\n",
       "      <td>0.101288</td>\n",
       "      <td>-0.339846</td>\n",
       "      <td>0.167170</td>\n",
       "      <td>0.125895</td>\n",
       "      <td>-0.008983</td>\n",
       "      <td>0.014724</td>\n",
       "      <td>0</td>\n",
       "    </tr>\n",
       "    <tr>\n",
       "      <th>2</th>\n",
       "      <td>4.983721</td>\n",
       "      <td>-0.994972</td>\n",
       "      <td>-1.358354</td>\n",
       "      <td>-1.340163</td>\n",
       "      <td>1.773209</td>\n",
       "      <td>0.379780</td>\n",
       "      <td>-0.503198</td>\n",
       "      <td>1.800499</td>\n",
       "      <td>0.791461</td>\n",
       "      <td>0.247676</td>\n",
       "      <td>...</td>\n",
       "      <td>0.524980</td>\n",
       "      <td>0.247998</td>\n",
       "      <td>0.771679</td>\n",
       "      <td>0.909412</td>\n",
       "      <td>-0.689281</td>\n",
       "      <td>-0.327642</td>\n",
       "      <td>-0.139097</td>\n",
       "      <td>-0.055353</td>\n",
       "      <td>-0.059752</td>\n",
       "      <td>0</td>\n",
       "    </tr>\n",
       "    <tr>\n",
       "      <th>3</th>\n",
       "      <td>1.418291</td>\n",
       "      <td>-0.994972</td>\n",
       "      <td>-0.966272</td>\n",
       "      <td>-0.185226</td>\n",
       "      <td>1.792993</td>\n",
       "      <td>-0.863291</td>\n",
       "      <td>-0.010309</td>\n",
       "      <td>1.247203</td>\n",
       "      <td>0.237609</td>\n",
       "      <td>0.377436</td>\n",
       "      <td>...</td>\n",
       "      <td>-0.208038</td>\n",
       "      <td>-0.108300</td>\n",
       "      <td>0.005274</td>\n",
       "      <td>-0.190321</td>\n",
       "      <td>-1.175575</td>\n",
       "      <td>0.647376</td>\n",
       "      <td>-0.221929</td>\n",
       "      <td>0.062723</td>\n",
       "      <td>0.061458</td>\n",
       "      <td>0</td>\n",
       "    </tr>\n",
       "    <tr>\n",
       "      <th>4</th>\n",
       "      <td>0.670579</td>\n",
       "      <td>-0.994960</td>\n",
       "      <td>-1.158233</td>\n",
       "      <td>0.877737</td>\n",
       "      <td>1.548718</td>\n",
       "      <td>0.403034</td>\n",
       "      <td>-0.407193</td>\n",
       "      <td>0.095921</td>\n",
       "      <td>0.592941</td>\n",
       "      <td>-0.270533</td>\n",
       "      <td>...</td>\n",
       "      <td>0.408542</td>\n",
       "      <td>-0.009431</td>\n",
       "      <td>0.798278</td>\n",
       "      <td>-0.137458</td>\n",
       "      <td>0.141267</td>\n",
       "      <td>-0.206010</td>\n",
       "      <td>0.502292</td>\n",
       "      <td>0.219422</td>\n",
       "      <td>0.215153</td>\n",
       "      <td>0</td>\n",
       "    </tr>\n",
       "  </tbody>\n",
       "</table>\n",
       "<p>5 rows × 31 columns</p>\n",
       "</div>"
      ],
      "text/plain": [
       "     Amount      Time        V1        V2        V3        V4        V5  \\\n",
       "0  1.783274 -0.994983 -1.359807 -0.072781  2.536347  1.378155 -0.338321   \n",
       "1 -0.269825 -0.994983  1.191857  0.266151  0.166480  0.448154  0.060018   \n",
       "2  4.983721 -0.994972 -1.358354 -1.340163  1.773209  0.379780 -0.503198   \n",
       "3  1.418291 -0.994972 -0.966272 -0.185226  1.792993 -0.863291 -0.010309   \n",
       "4  0.670579 -0.994960 -1.158233  0.877737  1.548718  0.403034 -0.407193   \n",
       "\n",
       "         V6        V7        V8  ...       V20       V21       V22       V23  \\\n",
       "0  0.462388  0.239599  0.098698  ...  0.251412 -0.018307  0.277838 -0.110474   \n",
       "1 -0.082361 -0.078803  0.085102  ... -0.069083 -0.225775 -0.638672  0.101288   \n",
       "2  1.800499  0.791461  0.247676  ...  0.524980  0.247998  0.771679  0.909412   \n",
       "3  1.247203  0.237609  0.377436  ... -0.208038 -0.108300  0.005274 -0.190321   \n",
       "4  0.095921  0.592941 -0.270533  ...  0.408542 -0.009431  0.798278 -0.137458   \n",
       "\n",
       "        V24       V25       V26       V27       V28  Class  \n",
       "0  0.066928  0.128539 -0.189115  0.133558 -0.021053      0  \n",
       "1 -0.339846  0.167170  0.125895 -0.008983  0.014724      0  \n",
       "2 -0.689281 -0.327642 -0.139097 -0.055353 -0.059752      0  \n",
       "3 -1.175575  0.647376 -0.221929  0.062723  0.061458      0  \n",
       "4  0.141267 -0.206010  0.502292  0.219422  0.215153      0  \n",
       "\n",
       "[5 rows x 31 columns]"
      ]
     },
     "execution_count": 8,
     "metadata": {},
     "output_type": "execute_result"
    }
   ],
   "source": [
    "# Scaling Columns - Time and Amount \n",
    "\n",
    "rob_scaler = RobustScaler() #Robust Scaler is less affected by Outliers\n",
    "df['Time'] = rob_scaler.fit_transform(df[['Time']])\n",
    "df['Amount'] = rob_scaler.fit_transform(df[['Amount']])\n",
    "\n",
    "# Changing the order of the columns. Bringing Amount and Time to the front\n",
    "\n",
    "scaled_time = df['Time']\n",
    "scaled_amount = df['Amount']\n",
    "\n",
    "df.drop(['Time', 'Amount'], 1, inplace = True)\n",
    "\n",
    "df.insert(0, 'Amount', scaled_amount)\n",
    "df.insert(1, 'Time', scaled_time)\n",
    "\n",
    "df.head()"
   ]
  },
  {
   "cell_type": "markdown",
   "metadata": {},
   "source": [
    "## B - Splitting the DataFrame"
   ]
  },
  {
   "cell_type": "code",
   "execution_count": 9,
   "metadata": {},
   "outputs": [
    {
     "name": "stdout",
     "output_type": "stream",
     "text": [
      "Split 1 \n",
      "\n",
      "Train Set:\n",
      "Not Fraud: 99.83\n",
      "Fraud: 0.17\n",
      "Test Set:\n",
      "Not Fraud: 99.83\n",
      "Fraud: 0.17\n",
      "----------------------------------------------------------------------------------------------------\n",
      "Split 2 \n",
      "\n",
      "Train Set:\n",
      "Not Fraud: 99.83\n",
      "Fraud: 0.17\n",
      "Test Set:\n",
      "Not Fraud: 99.83\n",
      "Fraud: 0.17\n",
      "----------------------------------------------------------------------------------------------------\n",
      "Split 3 \n",
      "\n",
      "Train Set:\n",
      "Not Fraud: 99.83\n",
      "Fraud: 0.17\n",
      "Test Set:\n",
      "Not Fraud: 99.83\n",
      "Fraud: 0.17\n",
      "----------------------------------------------------------------------------------------------------\n",
      "Split 4 \n",
      "\n",
      "Train Set:\n",
      "Not Fraud: 99.83\n",
      "Fraud: 0.17\n",
      "Test Set:\n",
      "Not Fraud: 99.83\n",
      "Fraud: 0.17\n",
      "----------------------------------------------------------------------------------------------------\n",
      "Split 5 \n",
      "\n",
      "Train Set:\n",
      "Not Fraud: 99.83\n",
      "Fraud: 0.17\n",
      "Test Set:\n",
      "Not Fraud: 99.83\n",
      "Fraud: 0.17\n",
      "----------------------------------------------------------------------------------------------------\n"
     ]
    }
   ],
   "source": [
    "X = df.drop('Class',1)\n",
    "y = df.Class\n",
    "\n",
    "skf = StratifiedKFold(n_splits = 5, random_state = 0, shuffle = False)\n",
    "\n",
    "# Checking if the splits are proportionate\n",
    "n = 1\n",
    "for train_index, test_index in skf.split(X,y):\n",
    "    original_Xtrain, original_Xtest = X.iloc[train_index], X.iloc[test_index]\n",
    "    original_ytrain, original_ytest = y.iloc[train_index], y.iloc[test_index]\n",
    "    \n",
    "    print('Split {} \\n'.format(n))\n",
    "    n = n+1\n",
    "    \n",
    "    # Checking Label Distribution for Train Set\n",
    "    train_not_fraud = round(original_ytrain.value_counts(normalize = True)*100, 2)[0]\n",
    "    train_fraud = round(original_ytrain.value_counts(normalize = True)*100, 2)[1]\n",
    "    \n",
    "    print('Train Set:')\n",
    "    print('Not Fraud: {}'.format(train_not_fraud))\n",
    "    print('Fraud: {}'.format(train_fraud))\n",
    "    \n",
    "    # Checking Label Distribution for Train Set\n",
    "    test_not_fraud = round(original_ytest.value_counts(normalize = True)*100, 2)[0]\n",
    "    test_fraud = round(original_ytest.value_counts(normalize = True)*100, 2)[1]\n",
    "    \n",
    "    print('Test Set:')\n",
    "    print('Not Fraud: {}'.format(test_not_fraud))\n",
    "    print('Fraud: {}'.format(test_fraud))    \n",
    "    \n",
    "    print('-'*100)"
   ]
  },
  {
   "cell_type": "markdown",
   "metadata": {},
   "source": [
    "# _III - UnderSampling and OverSampling_"
   ]
  },
  {
   "cell_type": "markdown",
   "metadata": {},
   "source": [
    "## A - Distributing and Correlating"
   ]
  },
  {
   "cell_type": "markdown",
   "metadata": {},
   "source": [
    "### 1. Randomly Under Sampling Data"
   ]
  },
  {
   "cell_type": "code",
   "execution_count": 9,
   "metadata": {},
   "outputs": [
    {
     "data": {
      "image/png": "[encoded data removed]",
      "text/plain": [
       "<Figure size 864x432 with 1 Axes>"
      ]
     },
     "metadata": {
      "needs_background": "light"
     },
     "output_type": "display_data"
    }
   ],
   "source": [
    "#Randomizing df so non_fraud_df could be be randomized\n",
    "df = df.sample(frac = 1)\n",
    "\n",
    "#Subsetting the DataFrame\n",
    "fraud_df = df[df['Class'] == 1]\n",
    "len_fraud_df = len(fraud_df)\n",
    "\n",
    "non_fraud_df = df[df['Class'] == 0][:len_fraud_df]\n",
    "\n",
    "#Combining into a new dataframe and randomizing it\n",
    "new_df = pd.concat([fraud_df, non_fraud_df]).sample(frac = 1, random_state = 42)\n",
    "# Plotting the Class Distribution in new_df\n",
    "plt.figure(figsize = (12,6))\n",
    "sns.countplot(new_df.Class,palette = sns.color_palette(\"Paired\", 3))\n",
    "plt.title('0: Non Fraud || 1: Fraud')\n",
    "plt.show()"
   ]
  },
  {
   "cell_type": "markdown",
   "metadata": {},
   "source": [
    "### 2. Correlation Matrixes"
   ]
  },
  {
   "cell_type": "code",
   "execution_count": 10,
   "metadata": {},
   "outputs": [
    {
     "data": {
      "image/png": "[encoded data removed]",
      "text/plain": [
       "<Figure size 1728x1440 with 4 Axes>"
      ]
     },
     "metadata": {
      "needs_background": "light"
     },
     "output_type": "display_data"
    }
   ],
   "source": [
    "fig, (ax1, ax2) = plt.subplots(2,1,figsize = (24,20))\n",
    "\n",
    "# Entire DataFrame\n",
    "\n",
    "sns.heatmap(df.corr(), annot = False, cmap = 'coolwarm_r',ax = ax1) # Annot decides if corr values should be shown in each cell\n",
    "ax1.set_title('Imbalanced Data Set')\n",
    "\n",
    "# UnderSampled and Balanced DataFrame\n",
    "\n",
    "sns.heatmap(new_df.corr(),cmap = 'coolwarm_r', ax = ax2)\n",
    "ax2.set_title('Balanced Data Set')\n",
    "\n",
    "plt.show()"
   ]
  },
  {
   "cell_type": "markdown",
   "metadata": {},
   "source": [
    "### 3. Boxplot Visualisation of Highly Correlated Features"
   ]
  },
  {
   "cell_type": "code",
   "execution_count": 11,
   "metadata": {},
   "outputs": [
    {
     "data": {
      "image/png": "[encoded data removed]",
      "text/plain": [
       "<Figure size 1440x576 with 4 Axes>"
      ]
     },
     "metadata": {
      "needs_background": "light"
     },
     "output_type": "display_data"
    },
    {
     "data": {
      "image/png": "[encoded data removed]",
      "text/plain": [
       "<Figure size 1440x576 with 4 Axes>"
      ]
     },
     "metadata": {
      "needs_background": "light"
     },
     "output_type": "display_data"
    }
   ],
   "source": [
    "# Boxplots\n",
    "\n",
    "# Boxplots for Negative Correlated Features\n",
    "fig, ax = plt.subplots(1,4, figsize = (20,8))\n",
    "neg_corr = ['V17','V14','V12','V10']\n",
    "axes = [0,1,2,3]\n",
    "neg_axes = list(zip(neg_corr, axes))\n",
    "\n",
    "for feature, axis_no in neg_axes:\n",
    "    sns.boxplot(x = 'Class', y = feature, data = new_df, ax = ax[axis_no])\n",
    "    ax[axis_no].set_title('{} vs Class - Negative Correlation'.format(feature))\n",
    "\n",
    "    \n",
    "# Boxplots for positive Correlated Features\n",
    "fig, ax = plt.subplots(1,4, figsize = (20,8))\n",
    "pos_corr = ['V2','V4','V11','V19']\n",
    "axes = [0,1,2,3]\n",
    "pos_axes = list(zip(pos_corr, axes))\n",
    "\n",
    "for feature, axis_no in pos_axes:\n",
    "    sns.boxplot(x = 'Class', y = feature, data = new_df, ax = ax[axis_no])\n",
    "    ax[axis_no].set_title('{} vs Class - Positive Correlation'.format(feature))"
   ]
  },
  {
   "cell_type": "markdown",
   "metadata": {},
   "source": [
    "## B - Anomaly Detection"
   ]
  },
  {
   "cell_type": "markdown",
   "metadata": {},
   "source": [
    "### 1. Visualise Distributions "
   ]
  },
  {
   "cell_type": "code",
   "execution_count": 12,
   "metadata": {},
   "outputs": [
    {
     "data": {
      "image/png": "[encoded data removed]",
      "text/plain": [
       "<Figure size 1440x432 with 3 Axes>"
      ]
     },
     "metadata": {
      "needs_background": "light"
     },
     "output_type": "display_data"
    }
   ],
   "source": [
    "from scipy.stats import norm # To have a normal distribution line to compare our actual distributions to.\n",
    "\n",
    "f, (ax1, ax2, ax3) = plt.subplots(1,3, figsize = (20,6))\n",
    "\n",
    "v14_fraud_dist = new_df[new_df['Class'] == 1]['V14']\n",
    "sns.distplot(v14_fraud_dist, ax = ax1, color = 'red', fit = norm)\n",
    "ax1.set_title('V14 Distribution \\n (Fraud Transactions)', fontsize=14)\n",
    "\n",
    "v12_fraud_dist = new_df[new_df['Class'] == 1]['V12']\n",
    "sns.distplot(v12_fraud_dist, ax = ax2, color = 'lightgreen', fit = norm)\n",
    "ax2.set_title('V12 Distribution \\n (Fraud Transactions)', fontsize=14)\n",
    "\n",
    "v10_fraud_dist = new_df[new_df['Class'] == 1]['V10']\n",
    "sns.distplot(v10_fraud_dist, ax = ax3, color = 'blue', fit = norm)\n",
    "ax3.set_title('V10 Distribution \\n (Fraud Transactions)', fontsize=14)\n",
    "\n",
    "plt.show()"
   ]
  },
  {
   "cell_type": "markdown",
   "metadata": {},
   "source": [
    "### 2. Outlier Removal"
   ]
  },
  {
   "cell_type": "code",
   "execution_count": 13,
   "metadata": {},
   "outputs": [
    {
     "name": "stdout",
     "output_type": "stream",
     "text": [
      "Quartile 25: -9.692722964972385\n",
      "Quartile 75: -4.282820849486866\n",
      "IQR: 5.409902115485519\n",
      "V14 Range: [-17.807576138200663, 3.8320323237414122]\n",
      "Outliers: [-18.049997689859396, -18.8220867423816, -19.2143254902614, -18.4937733551053]\n",
      "Total Number of Outliers: 4\n",
      "No of instances after Outlier Removal: 980\n",
      "---------------------------------------------------------------------------------------------------------------------------------------------------------------------------------------------------------------------------------------------------------------------------------------------------------------------------------------------------------\n",
      "Quartile 25: -8.67303320439115\n",
      "Quartile 75: -2.893030568676315\n",
      "IQR: 5.780002635714835\n",
      "V12 Range: [-17.3430371579634, 5.776973384895937]\n",
      "Outliers: [-18.4311310279993, -18.047596570821604, -18.683714633344298, -18.553697009645802]\n",
      "Total Number of Outliers: 4\n",
      "No of instances after Outlier Removal: 976\n",
      "---------------------------------------------------------------------------------------------------------------------------------------------------------------------------------------------------------------------------------------------------------------------------------------------------------------------------------------------------------\n",
      "Quartile 25: -7.466658535821848\n",
      "Quartile 75: -2.5118611381562523\n",
      "IQR: 4.954797397665596\n",
      "V10 Range: [-14.89885463232024, 4.920334958342141]\n",
      "Outliers: [-22.1870885620007, -15.2399619587112, -16.3035376590131, -17.141513641289198, -20.949191554361104, -15.563791338730098, -22.1870885620007, -15.346098846877501, -14.9246547735487, -23.2282548357516, -18.9132433348732, -15.1237521803455, -15.2318333653018, -16.6496281595399, -16.6011969664137, -16.2556117491401, -16.7460441053944, -22.1870885620007, -24.403184969972802, -15.563791338730098, -14.9246547735487, -24.5882624372475, -15.124162814494698, -22.1870885620007, -19.836148851696, -18.2711681738888, -15.2399619587112]\n",
      "Total Number of Outliers: 27\n",
      "No of instances after Outlier Removal: 948\n",
      "---------------------------------------------------------------------------------------------------------------------------------------------------------------------------------------------------------------------------------------------------------------------------------------------------------------------------------------------------------\n"
     ]
    }
   ],
   "source": [
    "# V14 Outlier Removal \n",
    "\n",
    "q25, q75 = np.percentile(v14_fraud_dist, 25), np.percentile(v14_fraud_dist, 75)\n",
    "print('Quartile 25:', q25)\n",
    "print('Quartile 75:', q75)\n",
    "v14_iqr = q75 - q25\n",
    "print('IQR:', v14_iqr)\n",
    "\n",
    "v14_lower = q25 - 1.5*v14_iqr\n",
    "v14_upper = q75 + 1.5*v14_iqr\n",
    "print('V14 Range: {}'.format([v14_lower, v14_upper]))\n",
    "\n",
    "outliers = [x for x in v14_fraud_dist if x < v14_lower or x > v14_upper]\n",
    "print('Outliers:', outliers)\n",
    "print('Total Number of Outliers:', len(outliers))\n",
    "\n",
    "new_df = new_df.drop(new_df[(new_df['V14'] < v14_lower) | (new_df['V14'] > v14_upper)].index)\n",
    "print('No of instances after Outlier Removal:', len(new_df))\n",
    "\n",
    "print('-'*345)\n",
    "\n",
    "# V12 Outlier Removal \n",
    "\n",
    "v12_fraud_dist = new_df[new_df['Class'] == 1]['V12']\n",
    "q25, q75 = np.percentile(v12_fraud_dist, 25), np.percentile(v12_fraud_dist, 75)\n",
    "print('Quartile 25:', q25)\n",
    "print('Quartile 75:', q75)\n",
    "v12_iqr = q75 - q25\n",
    "print('IQR:', v12_iqr)\n",
    "\n",
    "v12_lower = q25 - 1.5*v12_iqr\n",
    "v12_upper = q75 + 1.5*v12_iqr\n",
    "print('V12 Range: {}'.format([v12_lower, v12_upper]))\n",
    "\n",
    "outliers = [x for x in v12_fraud_dist if x < v12_lower or x > v12_upper]\n",
    "print('Outliers:', outliers)\n",
    "print('Total Number of Outliers:', len(outliers))\n",
    "\n",
    "new_df = new_df.drop(new_df[(new_df['V12'] < v12_lower) | (new_df['V12'] > v12_upper)].index)\n",
    "print('No of instances after Outlier Removal:', len(new_df))\n",
    "\n",
    "print('-'*345)\n",
    "\n",
    "# V10 Outlier Removal \n",
    "\n",
    "v10_fraud_dist = new_df[new_df['Class'] == 1]['V10']\n",
    "q25, q75 = np.percentile(v10_fraud_dist, 25), np.percentile(v10_fraud_dist, 75)\n",
    "print('Quartile 25:', q25)\n",
    "print('Quartile 75:', q75)\n",
    "v10_iqr = q75 - q25\n",
    "print('IQR:', v10_iqr)\n",
    "\n",
    "v10_lower = q25 - 1.5*v10_iqr\n",
    "v10_upper = q75 + 1.5*v10_iqr\n",
    "print('V10 Range: {}'.format([v10_lower, v10_upper]))\n",
    "\n",
    "outliers = [x for x in v10_fraud_dist if x < v10_lower or x > v10_upper]\n",
    "print('Outliers:', outliers)\n",
    "print('Total Number of Outliers:', len(outliers))\n",
    "\n",
    "new_df = new_df.drop(new_df[(new_df['V10'] < v10_lower) | (new_df['V10'] > v10_upper)].index)\n",
    "print('No of instances after Outlier Removal:', len(new_df))\n",
    "\n",
    "print('-'*345)"
   ]
  },
  {
   "cell_type": "markdown",
   "metadata": {},
   "source": [
    "### 3. Plotting the Box plots for the revised Data set (new_df Post Outlier removal)"
   ]
  },
  {
   "cell_type": "code",
   "execution_count": 14,
   "metadata": {},
   "outputs": [
    {
     "data": {
      "image/png": "[encoded data removed]",
      "text/plain": [
       "<Figure size 1440x432 with 3 Axes>"
      ]
     },
     "metadata": {
      "needs_background": "light"
     },
     "output_type": "display_data"
    }
   ],
   "source": [
    "f, (ax1, ax2, ax3) = plt.subplots(1,3, figsize = (20,6))\n",
    "\n",
    "sns.boxplot(x = 'Class', y = 'V14', data = new_df, ax = ax1)\n",
    "ax1.set_title('V14 v Class \\n Reduction of Outliers')\n",
    "ax1.annotate('Fewer extreme \\n outliers', xy=(0.98, -17.5), xytext=(0, -12),\n",
    "            arrowprops=dict(facecolor='black'),\n",
    "            fontsize=14)\n",
    "\n",
    "\n",
    "sns.boxplot(x = 'Class', y = 'V12', data = new_df, ax = ax2)\n",
    "ax2.set_title('V12 v Class \\n Reduction of Outliers')\n",
    "ax2.annotate('Fewer extreme \\n outliers', xy=(0.98, -17.3), xytext=(0, -12),\n",
    "            arrowprops=dict(facecolor='black'),\n",
    "            fontsize=14)\n",
    "\n",
    "sns.boxplot(x = 'Class', y = 'V10', data = new_df, ax = ax3)\n",
    "ax3.set_title('V10 v Class \\n Reduction of Outliers')\n",
    "ax3.annotate('Fewer extreme \\n outliers', xy=(0.95, -16.5), xytext=(0, -12),\n",
    "            arrowprops=dict(facecolor='black'),\n",
    "            fontsize=14)\n",
    "\n",
    "plt.title('Box Plots post Outlier Removal')\n",
    "plt.show()"
   ]
  },
  {
   "cell_type": "markdown",
   "metadata": {},
   "source": [
    "## C - Dimensionality Reduction and Clustering"
   ]
  },
  {
   "cell_type": "code",
   "execution_count": 15,
   "metadata": {},
   "outputs": [
    {
     "name": "stdout",
     "output_type": "stream",
     "text": [
      "T-SNE took 7.1 s\n",
      "PCA took 0.057 s\n",
      "Truncated SVD took 0.0053 s\n"
     ]
    }
   ],
   "source": [
    "X = new_df.drop('Class', axis=1)\n",
    "y = new_df['Class']\n",
    "\n",
    "# T-SNE Implementation\n",
    "t0 = time.time()\n",
    "X_reduced_tsne = TSNE(n_components=2, random_state=42).fit_transform(X.values)\n",
    "t1 = time.time()\n",
    "print(\"T-SNE took {:.2} s\".format(t1 - t0))\n",
    "\n",
    "# PCA Implementation\n",
    "t0 = time.time()\n",
    "X_reduced_pca = PCA(n_components=2, random_state=42).fit_transform(X.values)\n",
    "t1 = time.time()\n",
    "print(\"PCA took {:.2} s\".format(t1 - t0))\n",
    "\n",
    "# TruncatedSVD\n",
    "t0 = time.time()\n",
    "X_reduced_svd = TruncatedSVD(n_components=2, algorithm='randomized', random_state=42).fit_transform(X.values)\n",
    "t1 = time.time()\n",
    "print(\"Truncated SVD took {:.2} s\".format(t1 - t0))\n"
   ]
  },
  {
   "cell_type": "code",
   "execution_count": 16,
   "metadata": {},
   "outputs": [
    {
     "data": {
      "image/png": "[encoded data removed]",
      "text/plain": [
       "<Figure size 1728x432 with 3 Axes>"
      ]
     },
     "metadata": {
      "needs_background": "light"
     },
     "output_type": "display_data"
    }
   ],
   "source": [
    "import matplotlib.patches as mpatches\n",
    "\n",
    "f, (ax1, ax2, ax3) = plt.subplots(1, 3, figsize=(24,6))\n",
    "# labels = ['No Fraud', 'Fraud']\n",
    "f.suptitle('Clusters using Dimensionality Reduction', fontsize=14)\n",
    "\n",
    "\n",
    "# t-SNE scatter plot\n",
    "tsne_df = pd.concat([pd.DataFrame(X_reduced_tsne), pd.DataFrame(y.values, columns = ['Class'])], 1)\n",
    "\n",
    "sns.scatterplot(tsne_df[tsne_df.Class == 1][0], tsne_df[tsne_df.Class == 1][1],\n",
    "                label = 'Fraud', alpha = 0.9, color = 'red', ax = ax1)\n",
    "sns.scatterplot(tsne_df[tsne_df.Class == 0][0], tsne_df[tsne_df.Class == 0][1],\n",
    "                label = 'Not Fraud', alpha = 0.9, color = 'blue', ax = ax1)\n",
    "ax1.set_title('t-SNE', fontsize=14)\n",
    "ax1.grid(True)\n",
    "\n",
    "\n",
    "\n",
    "# PCA Scatter Plot\n",
    "pca_df = pd.concat([pd.DataFrame(X_reduced_pca), pd.DataFrame(y.values, columns = ['Class'])], 1)\n",
    "\n",
    "sns.scatterplot(pca_df[pca_df.Class == 1][0], pca_df[pca_df.Class == 1][1],\n",
    "               label = 'Fraud', alpha = 0.9, color = 'red', ax = ax2)\n",
    "sns.scatterplot(pca_df[pca_df.Class == 0][0], pca_df[pca_df.Class == 0][1],\n",
    "               label = 'Not Fraud', alpha = 0.9, color = 'blue', ax = ax2)\n",
    "ax2.set_title('PCA', fontsize = 14)\n",
    "ax2.grid(True)\n",
    "\n",
    "\n",
    "\n",
    "#TruncatedSVD\n",
    "svd_df = pd.concat([pd.DataFrame(X_reduced_svd), pd.DataFrame(y.values, columns = ['Class'])], 1)\n",
    "sns.scatterplot(svd_df[svd_df.Class == 1][0], svd_df[svd_df.Class == 1][1],\n",
    "               label = 'Fraud', alpha = 0.9, color = 'red', ax = ax3)\n",
    "sns.scatterplot(svd_df[svd_df.Class == 0][0], svd_df[svd_df.Class == 0][1],\n",
    "               label = 'Not Fraud', alpha = 0.9, color = 'blue', ax = ax3)\n",
    "ax3.set_title('SVD', fontsize = 14)\n",
    "ax3.grid(True)\n"
   ]
  },
  {
   "cell_type": "markdown",
   "metadata": {},
   "source": [
    "## D - Classifiers"
   ]
  },
  {
   "cell_type": "markdown",
   "metadata": {},
   "source": [
    "### 1. Cross Val Scores"
   ]
  },
  {
   "cell_type": "code",
   "execution_count": 17,
   "metadata": {},
   "outputs": [
    {
     "name": "stdout",
     "output_type": "stream",
     "text": [
      "(948, 31)\n",
      "Logistic Regression 93.13872429417917\n",
      "KNN 92.8738236319275\n",
      "Support Vector Classifier 92.87120948065528\n",
      "Decision Tree Classifier 90.63001045660508\n",
      "Time Taken: 0.43523311614990234\n"
     ]
    }
   ],
   "source": [
    "# Train-Test Split\n",
    "print(new_df.shape)\n",
    "\n",
    "import time\n",
    "\n",
    "t0 = time.time()\n",
    "\n",
    "X = new_df.drop('Class', axis=1)\n",
    "y = new_df['Class']\n",
    "\n",
    "X_train, X_test, y_train, y_test = train_test_split(X,y,random_state = 0, test_size = 0.2)\n",
    "\n",
    "# Classifiers\n",
    "\n",
    "classifiers = {'Logistic Regression': LogisticRegression(),\n",
    "              'KNN': KNeighborsClassifier(),\n",
    "              'Support Vector Classifier': SVC(),\n",
    "              'Decision Tree Classifier': DecisionTreeClassifier()}\n",
    "\n",
    "for key, classifier in classifiers.items():\n",
    "    score = cross_val_score(classifier, X_train,y_train,cv = 5 ).mean()*100\n",
    "    print(key, score)\n",
    "    \n",
    "print('Time Taken:', (time.time() - t0))"
   ]
  },
  {
   "cell_type": "markdown",
   "metadata": {},
   "source": [
    "### 2. Grid Search CV"
   ]
  },
  {
   "cell_type": "code",
   "execution_count": 18,
   "metadata": {},
   "outputs": [
    {
     "data": {
      "text/plain": [
       "dict_items([('C', 100), ('penalty', 'l2')])"
      ]
     },
     "execution_count": 18,
     "metadata": {},
     "output_type": "execute_result"
    }
   ],
   "source": [
    "from sklearn.model_selection import GridSearchCV\n",
    "\n",
    "\n",
    "log_reg_params = {'penalty': ['l1','l2'], 'C':[0.001, 0.01, 0.1, 1, 10, 100, 1000]}\n",
    "log_reg_grid = GridSearchCV(LogisticRegression(), param_grid = log_reg_params)\n",
    "log_reg_grid.fit(X_train, y_train)\n",
    "\n",
    "\n",
    "knears_params = {'n_neighbors': list(range(1,11)), 'algorithm':['auto', 'ball_tree', 'kd_tree', 'brute']}\n",
    "knears_grid = GridSearchCV(KNeighborsClassifier(), param_grid = knears_params)\n",
    "knears_grid.fit(X_train, y_train)\n",
    "\n",
    "\n",
    "svc_params = {'C': [0.5, 0.7, 0.9, 1], 'kernel': ['rbf', 'poly', 'sigmoid', 'linear']}\n",
    "svc_grid = GridSearchCV(SVC(), param_grid = svc_params)\n",
    "svc_grid.fit(X_train, y_train)\n",
    "\n",
    "\n",
    "decision_tree_params = {\"criterion\": [\"gini\", \"entropy\"], \"max_depth\": list(range(2,6,1)), \n",
    "              \"min_samples_leaf\": list(range(5,7,1))}\n",
    "decision_tree_grid = GridSearchCV(DecisionTreeClassifier(), param_grid = decision_tree_params)\n",
    "decision_tree_grid.fit(X_train, y_train)\n",
    "\n",
    "\n",
    "log_reg_grid.best_params_.items()"
   ]
  },
  {
   "cell_type": "markdown",
   "metadata": {},
   "source": [
    "### 3. Cross Val Scores of Best Estimators"
   ]
  },
  {
   "cell_type": "code",
   "execution_count": 19,
   "metadata": {},
   "outputs": [
    {
     "name": "stdout",
     "output_type": "stream",
     "text": [
      "Logistic Regression: 0.9406326246078773\n",
      "K nears Classifier: 0.9313698152666434\n",
      "Support Vector Classifier: 0.932729173928198\n",
      "Decision Tree Classifier: 0.9287643778319973\n"
     ]
    }
   ],
   "source": [
    "# Cross - Val Scores of Best Estimators\n",
    "\n",
    "log_reg_score = cross_val_score(log_reg_grid.best_estimator_, X_train, y_train, cv=5).mean() # can also use .best_score_ directly\n",
    "print('Logistic Regression:', log_reg_score)\n",
    "\n",
    "knears_score = cross_val_score(knears_grid.best_estimator_, X_train, y_train, cv=5).mean()\n",
    "print('K nears Classifier:', knears_score)\n",
    "\n",
    "svc_score = cross_val_score(svc_grid.best_estimator_, X_train, y_train, cv=5).mean()\n",
    "print('Support Vector Classifier:', svc_score)\n",
    "\n",
    "decision_tree_score = cross_val_score(decision_tree_grid.best_estimator_, X_train, y_train, cv=5).mean()\n",
    "print('Decision Tree Classifier:', decision_tree_score)\n",
    "\n",
    "\n",
    "# adding Cross Val Scores to a DataFrame\n",
    "scores_df = pd.DataFrame([log_reg_score, knears_score, svc_score, decision_tree_score], columns = ['Cross Val Acc.'],\n",
    "            index = ['Log Regression','K Nears', 'Support Vectors', 'Decision Trees'])"
   ]
  },
  {
   "cell_type": "markdown",
   "metadata": {},
   "source": [
    "### 4. ROC AUC Scores of Best Estimators"
   ]
  },
  {
   "cell_type": "code",
   "execution_count": 20,
   "metadata": {},
   "outputs": [
    {
     "name": "stdout",
     "output_type": "stream",
     "text": [
      "ROC AUC Score Logistic Regression: 0.9745580081598493\n",
      "ROC AUC Score K Neighbors Classifier: 0.92893259406493\n",
      "ROC AUC Score Support Vector Classifier: 0.9753600446350735\n",
      "ROC AUC Score Decision Tree Classifier: 0.9265857655961225\n"
     ]
    }
   ],
   "source": [
    "# ROC AUC Score of Best Estimtors\n",
    "\n",
    "from sklearn.metrics import roc_curve\n",
    "from sklearn.model_selection import cross_val_predict\n",
    "\n",
    "\n",
    "log_reg_pred = cross_val_predict(log_reg_grid.best_estimator_, X_train, y_train, cv=5,\n",
    "                             method=\"decision_function\")\n",
    "print('ROC AUC Score Logistic Regression:',roc_auc_score(y_train, log_reg_pred))\n",
    "\n",
    "\n",
    "knears_pred = cross_val_predict(knears_grid.best_estimator_, X_train, y_train, cv = 5,)\n",
    "print('ROC AUC Score K Neighbors Classifier:',roc_auc_score(y_train, knears_pred))\n",
    "\n",
    "svc_pred = cross_val_predict(svc_grid.best_estimator_, X_train, y_train, cv=5,\n",
    "                             method=\"decision_function\")\n",
    "print('ROC AUC Score Support Vector Classifier:',roc_auc_score(y_train, svc_pred))\n",
    "\n",
    "\n",
    "tree_pred = cross_val_predict(decision_tree_grid.best_estimator_, X_train, y_train, cv=5)\n",
    "print('ROC AUC Score Decision Tree Classifier:',roc_auc_score(y_train, tree_pred))\n",
    "\n",
    "\n",
    "# Updating Scores_df with ROC AUC Scores\n",
    "scores_df['ROC AUC'] = [roc_auc_score(y_train, log_reg_pred), roc_auc_score(y_train, knears_pred),\n",
    "                       roc_auc_score(y_train, svc_pred), roc_auc_score(y_train, tree_pred)]"
   ]
  },
  {
   "cell_type": "code",
   "execution_count": 21,
   "metadata": {},
   "outputs": [
    {
     "data": {
      "text/html": [
       "<div>\n",
       "<style scoped>\n",
       "    .dataframe tbody tr th:only-of-type {\n",
       "        vertical-align: middle;\n",
       "    }\n",
       "\n",
       "    .dataframe tbody tr th {\n",
       "        vertical-align: top;\n",
       "    }\n",
       "\n",
       "    .dataframe thead th {\n",
       "        text-align: right;\n",
       "    }\n",
       "</style>\n",
       "<table border=\"1\" class=\"dataframe\">\n",
       "  <thead>\n",
       "    <tr style=\"text-align: right;\">\n",
       "      <th></th>\n",
       "      <th>Cross Val Acc.</th>\n",
       "      <th>ROC AUC</th>\n",
       "    </tr>\n",
       "  </thead>\n",
       "  <tbody>\n",
       "    <tr>\n",
       "      <th>Log Regression</th>\n",
       "      <td>0.940633</td>\n",
       "      <td>0.974558</td>\n",
       "    </tr>\n",
       "    <tr>\n",
       "      <th>K Nears</th>\n",
       "      <td>0.931370</td>\n",
       "      <td>0.928933</td>\n",
       "    </tr>\n",
       "    <tr>\n",
       "      <th>Support Vectors</th>\n",
       "      <td>0.932729</td>\n",
       "      <td>0.975360</td>\n",
       "    </tr>\n",
       "    <tr>\n",
       "      <th>Decision Trees</th>\n",
       "      <td>0.928764</td>\n",
       "      <td>0.926586</td>\n",
       "    </tr>\n",
       "  </tbody>\n",
       "</table>\n",
       "</div>"
      ],
      "text/plain": [
       "                 Cross Val Acc.   ROC AUC\n",
       "Log Regression         0.940633  0.974558\n",
       "K Nears                0.931370  0.928933\n",
       "Support Vectors        0.932729  0.975360\n",
       "Decision Trees         0.928764  0.926586"
      ]
     },
     "execution_count": 21,
     "metadata": {},
     "output_type": "execute_result"
    }
   ],
   "source": [
    "scores_df"
   ]
  },
  {
   "cell_type": "markdown",
   "metadata": {},
   "source": [
    "### 5. Visualising ROC AUC Curve for each Estimator"
   ]
  },
  {
   "cell_type": "code",
   "execution_count": 22,
   "metadata": {},
   "outputs": [
    {
     "data": {
      "image/png": "[encoded data removed]",
      "text/plain": [
       "<Figure size 1152x576 with 1 Axes>"
      ]
     },
     "metadata": {
      "needs_background": "light"
     },
     "output_type": "display_data"
    }
   ],
   "source": [
    "log_fpr, log_tpr, log_thresold = roc_curve(y_train, log_reg_pred)\n",
    "knear_fpr, knear_tpr, knear_threshold = roc_curve(y_train, knears_pred)\n",
    "svc_fpr, svc_tpr, svc_threshold = roc_curve(y_train, svc_pred)\n",
    "tree_fpr, tree_tpr, tree_threshold = roc_curve(y_train, tree_pred)\n",
    "\n",
    "\n",
    "def graph_roc_curve_multiple(log_fpr, log_tpr, knear_fpr, knear_tpr, svc_fpr, svc_tpr, tree_fpr, tree_tpr):\n",
    "    plt.figure(figsize=(16,8))\n",
    "    plt.title('ROC Curve \\n Top 4 Classifiers', fontsize=18)\n",
    "    plt.plot(log_fpr, log_tpr, label='Logistic Regression Classifier Score: {:.4f}'.format(roc_auc_score(y_train, log_reg_pred)))\n",
    "    plt.plot(knear_fpr, knear_tpr, label='KNears Neighbors Classifier Score: {:.4f}'.format(roc_auc_score(y_train, knears_pred)))\n",
    "    plt.plot(svc_fpr, svc_tpr, label='Support Vector Classifier Score: {:.4f}'.format(roc_auc_score(y_train, svc_pred)))\n",
    "    plt.plot(tree_fpr, tree_tpr, label='Decision Tree Classifier Score: {:.4f}'.format(roc_auc_score(y_train, tree_pred)))\n",
    "    plt.plot([0, 1], [0, 1], 'k--')\n",
    "    plt.axis([-0.01, 1, 0, 1])\n",
    "    plt.xlabel('False Positive Rate', fontsize=16)\n",
    "    plt.ylabel('True Positive Rate', fontsize=16)\n",
    "    plt.annotate('Minimum ROC Score of 50% \\n (This is the minimum score to get)', xy=(0.5, 0.5), xytext=(0.6, 0.3),\n",
    "                arrowprops=dict(facecolor='#6E726D', shrink=0.05),\n",
    "                )\n",
    "    plt.legend()\n",
    "    \n",
    "graph_roc_curve_multiple(log_fpr, log_tpr, knear_fpr, knear_tpr, svc_fpr, svc_tpr, tree_fpr, tree_tpr)\n",
    "plt.show()"
   ]
  },
  {
   "cell_type": "markdown",
   "metadata": {},
   "source": [
    "### 6. Best Model Evaluation Metrics on UnderSampled Data"
   ]
  },
  {
   "cell_type": "code",
   "execution_count": 23,
   "metadata": {},
   "outputs": [
    {
     "name": "stdout",
     "output_type": "stream",
     "text": [
      "0.9406332453825857\n",
      "0.9395787564947519\n",
      "0.9146005509641874\n",
      "0.9595375722543352\n",
      "0.9365303244005642\n",
      "[[381  14]\n",
      " [ 31 332]]\n"
     ]
    }
   ],
   "source": [
    "# Evaluation Metrics on Randomly Undersampled Train Data\n",
    "log_reg_pred = cross_val_predict(log_reg_grid.best_estimator_, X_train, y_train, cv=5,\n",
    "                             method=\"predict\")\n",
    "print(accuracy_score(y_train, log_reg_pred))\n",
    "print(roc_auc_score(y_train, log_reg_pred))\n",
    "print(recall_score(y_train, log_reg_pred))\n",
    "print(precision_score(y_train, log_reg_pred))\n",
    "print(f1_score(y_train, log_reg_pred))\n",
    "print(confusion_matrix(y_train, log_reg_pred))"
   ]
  },
  {
   "cell_type": "code",
   "execution_count": 24,
   "metadata": {},
   "outputs": [
    {
     "name": "stdout",
     "output_type": "stream",
     "text": [
      "0.9526315789473684\n",
      "0.9523492907801417\n",
      "0.925531914893617\n",
      "0.9775280898876404\n",
      "0.9508196721311475\n",
      "[[94  2]\n",
      " [ 7 87]]\n"
     ]
    }
   ],
   "source": [
    "# Evaluation Metics on Randomly UnderSampled Test Data\n",
    "log_pred_test = log_reg_grid.best_estimator_.predict(X_test)\n",
    "\n",
    "print(accuracy_score(y_test, log_pred_test))\n",
    "print(roc_auc_score(y_test, log_pred_test))\n",
    "print(recall_score(y_test, log_pred_test))\n",
    "print(precision_score(y_test, log_pred_test))\n",
    "print(f1_score(y_test, log_pred_test))\n",
    "\n",
    "print(confusion_matrix(y_test, log_pred_test))"
   ]
  },
  {
   "cell_type": "markdown",
   "metadata": {},
   "source": [
    "### 7. Best Model Evaluation Metrics on Original Data"
   ]
  },
  {
   "cell_type": "code",
   "execution_count": 25,
   "metadata": {},
   "outputs": [
    {
     "name": "stdout",
     "output_type": "stream",
     "text": [
      "0.9631680401113737\n",
      "0.9440155943203383\n",
      "0.9247967479674797\n",
      "0.041712504583791714\n",
      "0.07982456140350878\n",
      "[[273862  10453]\n",
      " [    37    455]]\n"
     ]
    }
   ],
   "source": [
    "# Best Model Trained on Randomly Undersampled Data, being evaluated on Original Data\n",
    "log_reg_pred_test = log_reg_grid.best_estimator_.predict(df.drop('Class',1))\n",
    "\n",
    "print(accuracy_score(df.Class, log_reg_pred_test))\n",
    "print(roc_auc_score(df.Class, log_reg_pred_test))\n",
    "print(recall_score(df.Class, log_reg_pred_test))\n",
    "print(precision_score(df.Class, log_reg_pred_test))\n",
    "print(f1_score(df.Class, log_reg_pred_test))\n",
    "\n",
    "print(confusion_matrix(df.Class, log_reg_pred_test))"
   ]
  },
  {
   "cell_type": "markdown",
   "metadata": {},
   "source": [
    "### 8. Evaluation Metrics on Original Data (of Model trained on Original Data)"
   ]
  },
  {
   "cell_type": "code",
   "execution_count": 26,
   "metadata": {},
   "outputs": [
    {
     "name": "stdout",
     "output_type": "stream",
     "text": [
      "0.9992099996488887\n",
      "0.8104471837796965\n",
      "0.6210526315789474\n",
      "0.8676470588235294\n",
      "0.7239263803680981\n",
      "[[56858     9]\n",
      " [   36    59]]\n"
     ]
    }
   ],
   "source": [
    "X_train_orgi, X_test_orgi, y_train_orgi, y_test_orgi = train_test_split(df.drop('Class',1), df.Class, test_size = 0.2,\n",
    "                                                                   random_state = 0)\n",
    "log_reg_orgi = LogisticRegression().fit(X_train_orgi, y_train_orgi)\n",
    "y_pred_orgi = log_reg_orgi.predict(X_test_orgi)\n",
    "\n",
    "print(accuracy_score(y_test_orgi, y_pred_orgi))\n",
    "print(roc_auc_score(y_test_orgi, y_pred_orgi))\n",
    "print(recall_score(y_test_orgi, y_pred_orgi))\n",
    "print(precision_score(y_test_orgi, y_pred_orgi))\n",
    "print(f1_score(y_test_orgi, y_pred_orgi))\n",
    "\n",
    "print(confusion_matrix(y_test_orgi, y_pred_orgi))"
   ]
  },
  {
   "cell_type": "markdown",
   "metadata": {},
   "source": [
    "# IIII. Different Models and DataSet Comparisions"
   ]
  },
  {
   "cell_type": "markdown",
   "metadata": {},
   "source": [
    "We have seen the Model performance on an Self Created Randomly UnderSampled DataSet to see how we can work with Imbalanced DataSets.\n",
    "We will now explore different sampling techniques, which are also in-built classes in sklearn. \n",
    "\n",
    "The end goal here is to create a detailed table/DataFrame for us to compare each Sampling technique, and how it compares over different Classifier models and Evaluation Metrics.\n",
    "\n",
    "The flow we will follow will be:\n",
    "\n",
    "1. There will be 3 categories of DataSets - Original, UnderSampled and OverSampled. \n",
    "2. Techniques we will be using for UndeSampling are - Random UnderSampling, Cluster Centroids and Tomek Links\n",
    "3. Techniques we will be using for OverSampling are - Random OverSampling and SMOTE\n",
    "4. So including the Orginal Dataset, we will be working with 6 different Datasets.\n",
    "\n",
    "For each of the 6 DataSets: \n",
    "- Use 5 different Classifiers - Logistic Regression, SVM, KNN, Decision Trees, XGBoost\n",
    "- Using GridSearchCV, Find Best Estimator for each Classifier for each Dataset. \n",
    "- Under each DataSet, For Each Classifier(Best Estimated Model) - calculate Evaluation Metrics\n",
    "\n",
    "Evaluation Metrics to be observed: \n",
    "1. Cross Val Accuracy \n",
    "2. ROC AUC Score\n",
    "3. Precision Score\n",
    "4. Recall Score\n",
    "5. F1 Score\n",
    "6. Confusion Matrix\n",
    "\n",
    "## Notes: \n",
    "#### 1. Since this entire procedure will be extremely heavy on comoutation, we will work with just 10% of the original datset. We will stratisfy it to have the same distribution of fruad and non-fraud transactions as the original data.\n",
    "#### 2. Even with taking 10% of the data, all these computations taken over 2 hours to happen. So we need to be patient.\n",
    "#### 3. We expect the RandomUnderSampler Technique results to very closely or exactly resemble the above results, but we will redo it and add to the dataframe just to be sure. "
   ]
  },
  {
   "cell_type": "markdown",
   "metadata": {},
   "source": [
    "## A. Importing Libraries"
   ]
  },
  {
   "cell_type": "code",
   "execution_count": 27,
   "metadata": {},
   "outputs": [],
   "source": [
    "from imblearn.under_sampling import RandomUnderSampler, ClusterCentroids, TomekLinks\n",
    "from imblearn.over_sampling import RandomOverSampler, SMOTE\n",
    "from xgboost import XGBClassifier\n",
    "import time"
   ]
  },
  {
   "cell_type": "markdown",
   "metadata": {},
   "source": [
    "## B. Creating Table Template"
   ]
  },
  {
   "cell_type": "code",
   "execution_count": 97,
   "metadata": {},
   "outputs": [
    {
     "name": "stdout",
     "output_type": "stream",
     "text": [
      "(30, 10)\n"
     ]
    },
    {
     "data": {
      "text/html": [
       "<div>\n",
       "<style scoped>\n",
       "    .dataframe tbody tr th:only-of-type {\n",
       "        vertical-align: middle;\n",
       "    }\n",
       "\n",
       "    .dataframe tbody tr th {\n",
       "        vertical-align: top;\n",
       "    }\n",
       "\n",
       "    .dataframe thead th {\n",
       "        text-align: right;\n",
       "    }\n",
       "</style>\n",
       "<table border=\"1\" class=\"dataframe\">\n",
       "  <thead>\n",
       "    <tr style=\"text-align: right;\">\n",
       "      <th></th>\n",
       "      <th>DataSet</th>\n",
       "      <th>Model</th>\n",
       "      <th>Best Estimator</th>\n",
       "      <th>Cross Val Acc.</th>\n",
       "      <th>Accuracy Score</th>\n",
       "      <th>ROC AUC Score</th>\n",
       "      <th>Recall Score</th>\n",
       "      <th>Precision Score</th>\n",
       "      <th>F1 Score</th>\n",
       "      <th>Confusion Matrix</th>\n",
       "    </tr>\n",
       "  </thead>\n",
       "  <tbody>\n",
       "    <tr>\n",
       "      <th>0</th>\n",
       "      <td>Original</td>\n",
       "      <td>Logistic Regression</td>\n",
       "      <td></td>\n",
       "      <td></td>\n",
       "      <td></td>\n",
       "      <td></td>\n",
       "      <td></td>\n",
       "      <td></td>\n",
       "      <td></td>\n",
       "      <td></td>\n",
       "    </tr>\n",
       "    <tr>\n",
       "      <th>1</th>\n",
       "      <td>Original</td>\n",
       "      <td>Support Vectors</td>\n",
       "      <td></td>\n",
       "      <td></td>\n",
       "      <td></td>\n",
       "      <td></td>\n",
       "      <td></td>\n",
       "      <td></td>\n",
       "      <td></td>\n",
       "      <td></td>\n",
       "    </tr>\n",
       "    <tr>\n",
       "      <th>2</th>\n",
       "      <td>Original</td>\n",
       "      <td>K Neighbors</td>\n",
       "      <td></td>\n",
       "      <td></td>\n",
       "      <td></td>\n",
       "      <td></td>\n",
       "      <td></td>\n",
       "      <td></td>\n",
       "      <td></td>\n",
       "      <td></td>\n",
       "    </tr>\n",
       "    <tr>\n",
       "      <th>3</th>\n",
       "      <td>Original</td>\n",
       "      <td>Decision Trees</td>\n",
       "      <td></td>\n",
       "      <td></td>\n",
       "      <td></td>\n",
       "      <td></td>\n",
       "      <td></td>\n",
       "      <td></td>\n",
       "      <td></td>\n",
       "      <td></td>\n",
       "    </tr>\n",
       "    <tr>\n",
       "      <th>4</th>\n",
       "      <td>Original</td>\n",
       "      <td>XGBoost</td>\n",
       "      <td></td>\n",
       "      <td></td>\n",
       "      <td></td>\n",
       "      <td></td>\n",
       "      <td></td>\n",
       "      <td></td>\n",
       "      <td></td>\n",
       "      <td></td>\n",
       "    </tr>\n",
       "  </tbody>\n",
       "</table>\n",
       "</div>"
      ],
      "text/plain": [
       "    DataSet                Model Best Estimator Cross Val Acc. Accuracy Score  \\\n",
       "0  Original  Logistic Regression                                                \n",
       "1  Original      Support Vectors                                                \n",
       "2  Original          K Neighbors                                                \n",
       "3  Original       Decision Trees                                                \n",
       "4  Original              XGBoost                                                \n",
       "\n",
       "  ROC AUC Score Recall Score Precision Score F1 Score Confusion Matrix  \n",
       "0                                                                       \n",
       "1                                                                       \n",
       "2                                                                       \n",
       "3                                                                       \n",
       "4                                                                       "
      ]
     },
     "execution_count": 97,
     "metadata": {},
     "output_type": "execute_result"
    }
   ],
   "source": [
    "final_table = pd.DataFrame()\n",
    "final_table['DataSet'] = ['Original']*5 + ['US Random']*5 + ['US ClusterCentroids']*5 + ['US TomekLinks']*5 \\\n",
    "                            +['OS Random']*5 + ['OS SMOTE']*5\n",
    "final_table['Model'] = ['Logistic Regression','Support Vectors', 'K Neighbors', 'Decision Trees', 'XGBoost']*6\n",
    "final_table['Best Estimator'] = ''\n",
    "final_table['Cross Val Acc.'] = ''\n",
    "final_table['Accuracy Score'], final_table['ROC AUC Score'], final_table['Recall Score'] = '' , '' , ''\n",
    "final_table['Precision Score'], final_table['F1 Score'], final_table['Confusion Matrix'] = '' , '' , ''\n",
    "\n",
    "print(final_table.shape)\n",
    "\n",
    "final_table.head()"
   ]
  },
  {
   "cell_type": "markdown",
   "metadata": {},
   "source": [
    "## C. Evaluation over Different DataSets"
   ]
  },
  {
   "cell_type": "markdown",
   "metadata": {},
   "source": [
    "### Classifier Functions (to perform Grid Search and calculate Evaluation Metrics)"
   ]
  },
  {
   "cell_type": "code",
   "execution_count": 62,
   "metadata": {},
   "outputs": [],
   "source": [
    "\n",
    "# Logistic Regression\n",
    "def log_reg(X_train, X_test, y_train, y_test, index):\n",
    "    log_reg_params = {'penalty': ['l1','l2'], 'C':[0.001, 0.01, 0.1, 1, 10, 100, 1000]}\n",
    "    log_reg_grid = GridSearchCV(LogisticRegression(), param_grid = log_reg_params)\n",
    "    #log_reg_grid = LogisticRegression()\n",
    "    log_reg_grid.fit(X_train, y_train)\n",
    "\n",
    "    log_reg_score = cross_val_score(log_reg_grid, X_train, y_train, cv=5).mean() # can also use .best_score_ directly\n",
    "\n",
    "    # Best Params Update\n",
    "    final_table.iloc[index,2] = list(log_reg_grid.best_params_.items())\n",
    "    # Cross Val Score Update\n",
    "    final_table.iloc[index, 3] = log_reg_score\n",
    "\n",
    "    log_pred_test = log_reg_grid.predict(X_test)\n",
    "\n",
    "    # Updating Evaluation Metrics\n",
    "    final_table.iloc[index, 4] = accuracy_score(y_test, log_pred_test)\n",
    "    final_table.iloc[index, 5] = roc_auc_score(y_test, log_pred_test)\n",
    "    final_table.iloc[index, 6] = recall_score(y_test, log_pred_test)\n",
    "    final_table.iloc[index, 7] = precision_score(y_test, log_pred_test)\n",
    "    final_table.iloc[index, 8] = f1_score(y_test, log_pred_test)\n",
    "    final_table.iloc[index, 9] = confusion_matrix(y_test, log_pred_test)\n",
    "\n",
    "# K Neighbors Classifiers\n",
    "def knears(X_train, X_test, y_train, y_test, index):\n",
    "    knears_params = {'n_neighbors': list(range(8,11)), 'algorithm':['auto']}\n",
    "    knears_grid = GridSearchCV(KNeighborsClassifier(), param_grid = knears_params)\n",
    "    #knears_grid = KNeighborsClassifier()\n",
    "    knears_grid.fit(X_train, y_train)\n",
    "    \n",
    "    knears_score = cross_val_score(knears_grid, X_train, y_train, cv=3).mean()\n",
    "    \n",
    "    # Best Params Update\n",
    "    final_table.iloc[index,2] = list(knears_grid.best_params_.items())\n",
    "    # Cross Val Score Update\n",
    "    final_table.iloc[index, 3] = knears_score\n",
    "\n",
    "    knears_test = knears_grid.predict(X_test)\n",
    "\n",
    "    # Updating Evaluation Metrics\n",
    "    final_table.iloc[index, 4] = accuracy_score(y_test, knears_test)\n",
    "    final_table.iloc[index, 5] = roc_auc_score(y_test, knears_test)\n",
    "    final_table.iloc[index, 6] = recall_score(y_test, knears_test)\n",
    "    final_table.iloc[index, 7] = precision_score(y_test, knears_test)\n",
    "    final_table.iloc[index, 8] = f1_score(y_test, knears_test)\n",
    "    final_table.iloc[index, 9] = confusion_matrix(y_test, knears_test)    \n",
    "    \n",
    "# Support Vector Classifier\n",
    "def svc(X_train, X_test, y_train, y_test, index):\n",
    "    svc_params = {'C': [0.5, 0.7, 0.9], 'kernel': [ 'sigmoid', 'linear']}\n",
    "    svc_grid = GridSearchCV(SVC(), param_grid = svc_params)\n",
    "    #svc_grid = SVC()\n",
    "    svc_grid.fit(X_train, y_train)\n",
    "    \n",
    "    svc_score = cross_val_score(svc_grid, X_train, y_train, cv=5).mean()\n",
    "\n",
    "    # Best Params Update\n",
    "    final_table.iloc[index,2] = list(svc_grid.best_params_.items())\n",
    "    # Cross Val Score Update\n",
    "    final_table.iloc[index, 3] = svc_score\n",
    "\n",
    "    svc_test = svc_grid.predict(X_test)\n",
    "\n",
    "    # Updating Evaluation Metrics\n",
    "    final_table.iloc[index, 4] = accuracy_score(y_test, svc_test)\n",
    "    final_table.iloc[index, 5] = roc_auc_score(y_test, svc_test)\n",
    "    final_table.iloc[index, 6] = recall_score(y_test, svc_test)\n",
    "    final_table.iloc[index, 7] = precision_score(y_test, svc_test)\n",
    "    final_table.iloc[index, 8] = f1_score(y_test, svc_test)\n",
    "    final_table.iloc[index, 9] = confusion_matrix(y_test, svc_test)   \n",
    "    \n",
    "# Decision Tree Classifier\n",
    "def decision_tree(X_train, X_test, y_train, y_test, index):\n",
    "    decision_tree_params = {\"criterion\": [\"gini\", \"entropy\"], \"max_depth\": list(range(3,6,1)), \n",
    "                              \"min_samples_leaf\": list(range(5,7,1))}\n",
    "    decision_tree_grid = GridSearchCV(DecisionTreeClassifier(), param_grid = decision_tree_params)\n",
    "    #decision_tree_grid = DecisionTreeClassifier(max_depth = 4)\n",
    "    decision_tree_grid.fit(X_train, y_train)\n",
    "    \n",
    "    decision_tree_score = cross_val_score(decision_tree_grid, X_train, y_train, cv=5).mean()\n",
    "\n",
    "    # Best Params Update\n",
    "    final_table.iloc[index,2] = list(decision_tree_grid.best_params_.items())\n",
    "    # Cross Val Score Update\n",
    "    final_table.iloc[index, 3] = decision_tree_score\n",
    "\n",
    "    decision_tree_test = decision_tree_grid.predict(X_test)\n",
    "\n",
    "    # Updating Evaluation Metrics\n",
    "    final_table.iloc[index, 4] = accuracy_score(y_test, decision_tree_test)\n",
    "    final_table.iloc[index, 5] = roc_auc_score(y_test, decision_tree_test)\n",
    "    final_table.iloc[index, 6] = recall_score(y_test, decision_tree_test)\n",
    "    final_table.iloc[index, 7] = precision_score(y_test, decision_tree_test)\n",
    "    final_table.iloc[index, 8] = f1_score(y_test, decision_tree_test)\n",
    "    final_table.iloc[index, 9] = confusion_matrix(y_test, decision_tree_test)  \n",
    "    \n",
    "# XGB Classifier\n",
    "def xgb(X_train, X_test, y_train, y_test, index):\n",
    "    xgb_params = {\"max_depth\": list(range(2,5,1))}\n",
    "    xgb_grid = GridSearchCV(XGBClassifier(), param_grid = xgb_params)\n",
    "    #xgb_grid = XGBClassifier()\n",
    "    xgb_grid.fit(X_train, y_train)\n",
    "    \n",
    "    xgb_score = cross_val_score(xgb_grid, X_train, y_train, cv=5).mean()\n",
    "\n",
    "    # Best Params Update\n",
    "    final_table.iloc[index,2] = list(xgb_grid.best_params_.items())\n",
    "    # Cross Val Score Update\n",
    "    final_table.iloc[index, 3] = xgb_score\n",
    "\n",
    "    xgb_test = xgb_grid.predict(X_test)\n",
    "\n",
    "    # Updating Evaluation Metrics\n",
    "    final_table.iloc[index, 4] = accuracy_score(y_test, xgb_test)\n",
    "    final_table.iloc[index, 5] = roc_auc_score(y_test, xgb_test)\n",
    "    final_table.iloc[index, 6] = recall_score(y_test, xgb_test)\n",
    "    final_table.iloc[index, 7] = precision_score(y_test, xgb_test)\n",
    "    final_table.iloc[index, 8] = f1_score(y_test, xgb_test)\n",
    "    final_table.iloc[index, 9] = confusion_matrix(y_test, xgb_test) \n"
   ]
  },
  {
   "cell_type": "markdown",
   "metadata": {},
   "source": [
    "## Data Subsetting "
   ]
  },
  {
   "cell_type": "code",
   "execution_count": 51,
   "metadata": {},
   "outputs": [],
   "source": [
    "df_subset = df.sample(frac = 0.1, random_state = 0)"
   ]
  },
  {
   "cell_type": "markdown",
   "metadata": {},
   "source": [
    "### 1. Original DataSet"
   ]
  },
  {
   "cell_type": "code",
   "execution_count": 64,
   "metadata": {},
   "outputs": [],
   "source": [
    "t1 = time.time()\n",
    "X = df_subset.drop('Class',1)\n",
    "y = df_subset.Class\n",
    "\n",
    "#X_train, X_test, y_train, y_test = train_test_split(X,y,test_size=0.2, random_state = 0)\n",
    "\n",
    "log_reg(X_train, X_test, y_train, y_test, 0)\n",
    "svc(X_train, X_test, y_train, y_test, 1)\n",
    "knears(X_train, X_test, y_train, y_test, 2)\n",
    "decision_tree(X_train, X_test, y_train, y_test, 3)\n",
    "xgb(X_train, X_test, y_train, y_test, 4)\n",
    "print(time.time() - t1)"
   ]
  },
  {
   "cell_type": "code",
   "execution_count": 61,
   "metadata": {},
   "outputs": [
    {
     "data": {
      "text/html": [
       "<div>\n",
       "<style scoped>\n",
       "    .dataframe tbody tr th:only-of-type {\n",
       "        vertical-align: middle;\n",
       "    }\n",
       "\n",
       "    .dataframe tbody tr th {\n",
       "        vertical-align: top;\n",
       "    }\n",
       "\n",
       "    .dataframe thead th {\n",
       "        text-align: right;\n",
       "    }\n",
       "</style>\n",
       "<table border=\"1\" class=\"dataframe\">\n",
       "  <thead>\n",
       "    <tr style=\"text-align: right;\">\n",
       "      <th></th>\n",
       "      <th>DataSet</th>\n",
       "      <th>Model</th>\n",
       "      <th>Best Estimator</th>\n",
       "      <th>Cross Val Acc.</th>\n",
       "      <th>Accuracy Score</th>\n",
       "      <th>ROC AUC Score</th>\n",
       "      <th>Recall Score</th>\n",
       "      <th>Precision Score</th>\n",
       "      <th>F1 Score</th>\n",
       "      <th>Confusion Matrix</th>\n",
       "    </tr>\n",
       "  </thead>\n",
       "  <tbody>\n",
       "    <tr>\n",
       "      <th>0</th>\n",
       "      <td>Original</td>\n",
       "      <td>Logistic Regression</td>\n",
       "      <td>[(C, 1), (penalty, l2)]</td>\n",
       "      <td>0.998859</td>\n",
       "      <td>0.999122</td>\n",
       "      <td>0.818094</td>\n",
       "      <td>0.636364</td>\n",
       "      <td>0.875</td>\n",
       "      <td>0.736842</td>\n",
       "      <td>[[5685, 1], [4, 7]]</td>\n",
       "    </tr>\n",
       "    <tr>\n",
       "      <th>1</th>\n",
       "      <td>Original</td>\n",
       "      <td>Support Vectors</td>\n",
       "      <td>[(C, 0.5), (kernel, linear)]</td>\n",
       "      <td>0.999166</td>\n",
       "      <td>0.999298</td>\n",
       "      <td>0.863548</td>\n",
       "      <td>0.727273</td>\n",
       "      <td>0.888889</td>\n",
       "      <td>0.8</td>\n",
       "      <td>[[5685, 1], [3, 8]]</td>\n",
       "    </tr>\n",
       "    <tr>\n",
       "      <th>2</th>\n",
       "      <td>Original</td>\n",
       "      <td>K Neighbors</td>\n",
       "      <td>[(algorithm, auto), (n_neighbors, 9)]</td>\n",
       "      <td>0.998903</td>\n",
       "      <td>0.998947</td>\n",
       "      <td>0.818006</td>\n",
       "      <td>0.636364</td>\n",
       "      <td>0.777778</td>\n",
       "      <td>0.7</td>\n",
       "      <td>[[5684, 2], [4, 7]]</td>\n",
       "    </tr>\n",
       "    <tr>\n",
       "      <th>3</th>\n",
       "      <td>Original</td>\n",
       "      <td>Decision Trees</td>\n",
       "      <td>[(criterion, entropy), (max_depth, 5), (min_sa...</td>\n",
       "      <td>0.998727</td>\n",
       "      <td>0.999298</td>\n",
       "      <td>0.863548</td>\n",
       "      <td>0.727273</td>\n",
       "      <td>0.888889</td>\n",
       "      <td>0.8</td>\n",
       "      <td>[[5685, 1], [3, 8]]</td>\n",
       "    </tr>\n",
       "    <tr>\n",
       "      <th>4</th>\n",
       "      <td>Original</td>\n",
       "      <td>XGBoost</td>\n",
       "      <td>[(criterion, gini), (max_depth, 2), (min_sampl...</td>\n",
       "      <td>0.999166</td>\n",
       "      <td>0.999298</td>\n",
       "      <td>0.863548</td>\n",
       "      <td>0.727273</td>\n",
       "      <td>0.888889</td>\n",
       "      <td>0.8</td>\n",
       "      <td>[[5685, 1], [3, 8]]</td>\n",
       "    </tr>\n",
       "    <tr>\n",
       "      <th>5</th>\n",
       "      <td>US Random</td>\n",
       "      <td>Logistic Regression</td>\n",
       "      <td></td>\n",
       "      <td></td>\n",
       "      <td></td>\n",
       "      <td></td>\n",
       "      <td></td>\n",
       "      <td></td>\n",
       "      <td></td>\n",
       "      <td></td>\n",
       "    </tr>\n",
       "  </tbody>\n",
       "</table>\n",
       "</div>"
      ],
      "text/plain": [
       "     DataSet                Model  \\\n",
       "0   Original  Logistic Regression   \n",
       "1   Original      Support Vectors   \n",
       "2   Original          K Neighbors   \n",
       "3   Original       Decision Trees   \n",
       "4   Original              XGBoost   \n",
       "5  US Random  Logistic Regression   \n",
       "\n",
       "                                      Best Estimator Cross Val Acc.  \\\n",
       "0                            [(C, 1), (penalty, l2)]       0.998859   \n",
       "1                       [(C, 0.5), (kernel, linear)]       0.999166   \n",
       "2              [(algorithm, auto), (n_neighbors, 9)]       0.998903   \n",
       "3  [(criterion, entropy), (max_depth, 5), (min_sa...       0.998727   \n",
       "4  [(criterion, gini), (max_depth, 2), (min_sampl...       0.999166   \n",
       "5                                                                     \n",
       "\n",
       "  Accuracy Score ROC AUC Score Recall Score Precision Score  F1 Score  \\\n",
       "0       0.999122      0.818094     0.636364           0.875  0.736842   \n",
       "1       0.999298      0.863548     0.727273        0.888889       0.8   \n",
       "2       0.998947      0.818006     0.636364        0.777778       0.7   \n",
       "3       0.999298      0.863548     0.727273        0.888889       0.8   \n",
       "4       0.999298      0.863548     0.727273        0.888889       0.8   \n",
       "5                                                                       \n",
       "\n",
       "      Confusion Matrix  \n",
       "0  [[5685, 1], [4, 7]]  \n",
       "1  [[5685, 1], [3, 8]]  \n",
       "2  [[5684, 2], [4, 7]]  \n",
       "3  [[5685, 1], [3, 8]]  \n",
       "4  [[5685, 1], [3, 8]]  \n",
       "5                       "
      ]
     },
     "execution_count": 61,
     "metadata": {},
     "output_type": "execute_result"
    }
   ],
   "source": [
    "final_table.head(6)"
   ]
  },
  {
   "cell_type": "markdown",
   "metadata": {},
   "source": [
    "### 2. UnderSampled DataSet - Random Technique"
   ]
  },
  {
   "cell_type": "code",
   "execution_count": 65,
   "metadata": {},
   "outputs": [
    {
     "name": "stdout",
     "output_type": "stream",
     "text": [
      "Time taken: 0.1376781463623047\n"
     ]
    }
   ],
   "source": [
    "# Create Sample\n",
    "t0 = time.time()\n",
    "\n",
    "rus = RandomUnderSampler(random_state = 0)\n",
    "X_sample2, y_sample2 = rus.fit_sample(X_train, y_train)\n",
    "\n",
    "t1 = time.time()\n",
    "\n",
    "print('Time taken:',t1-t0)"
   ]
  },
  {
   "cell_type": "code",
   "execution_count": 66,
   "metadata": {},
   "outputs": [
    {
     "name": "stdout",
     "output_type": "stream",
     "text": [
      "Time taken: 9.997680902481079\n"
     ]
    }
   ],
   "source": [
    "# Model Building on Sampled Data  \n",
    "t0 = time.time()\n",
    "\n",
    "log_reg(X_sample2, X_test, y_sample2, y_test,5)\n",
    "svc(X_sample2, X_test, y_sample2, y_test,6)\n",
    "knears(X_sample2, X_test, y_sample2, y_test, 7)\n",
    "decision_tree(X_sample2, X_test, y_sample2, y_test, 8)\n",
    "xgb(X_sample2, X_test, y_sample2,y_test, 9)\n",
    "t1 = time.time()\n",
    "\n",
    "print('Time taken:',t1-t0)"
   ]
  },
  {
   "cell_type": "markdown",
   "metadata": {},
   "source": [
    "### 3. UnderSampled DataSet - Cluster Centroids"
   ]
  },
  {
   "cell_type": "code",
   "execution_count": 67,
   "metadata": {},
   "outputs": [
    {
     "name": "stdout",
     "output_type": "stream",
     "text": [
      "Time taken: 8.048727035522461\n"
     ]
    }
   ],
   "source": [
    "# Create Sample\n",
    "t0 = time.time()\n",
    "\n",
    "cus = ClusterCentroids(random_state = 0)\n",
    "X_sample_cus, y_sample_cus = cus.fit_sample(X_train, y_train)\n",
    "\n",
    "t1 = time.time()\n",
    "\n",
    "print('Time taken:',t1-t0)"
   ]
  },
  {
   "cell_type": "code",
   "execution_count": 68,
   "metadata": {},
   "outputs": [
    {
     "name": "stdout",
     "output_type": "stream",
     "text": [
      "Time taken: 11.816230773925781\n"
     ]
    }
   ],
   "source": [
    "# Model Building on Sampled Data  \n",
    "t0 = time.time()\n",
    "\n",
    "log_reg(X_sample_cus, X_test, y_sample_cus, y_test,10)\n",
    "svc(X_sample_cus, X_test, y_sample_cus, y_test,11)\n",
    "knears(X_sample_cus, X_test, y_sample_cus, y_test, 12)\n",
    "decision_tree(X_sample_cus, X_test, y_sample_cus, y_test, 13)\n",
    "xgb(X_sample_cus, X_test, y_sample_cus,y_test, 14)\n",
    "\n",
    "t1 = time.time()\n",
    "\n",
    "print('Time taken:',t1-t0)"
   ]
  },
  {
   "cell_type": "markdown",
   "metadata": {},
   "source": [
    "### 4. UnderSampled DataSet -Tomek Links"
   ]
  },
  {
   "cell_type": "code",
   "execution_count": 85,
   "metadata": {},
   "outputs": [
    {
     "name": "stdout",
     "output_type": "stream",
     "text": [
      "Time taken: 14.580396175384521\n"
     ]
    }
   ],
   "source": [
    "# Create Sample\n",
    "t0 = time.time()\n",
    "\n",
    "tl = TomekLinks()\n",
    "X_sample_tl, y_sample_tl = tl.fit_sample(X_train, y_train)\n",
    "\n",
    "t1 = time.time()\n",
    "\n",
    "print('Time taken:',t1-t0)"
   ]
  },
  {
   "cell_type": "code",
   "execution_count": 86,
   "metadata": {},
   "outputs": [
    {
     "name": "stdout",
     "output_type": "stream",
     "text": [
      "Time taken: 502.15833592414856\n"
     ]
    }
   ],
   "source": [
    "# Model Building on Sampled Data  \n",
    "t0 = time.time()\n",
    "\n",
    "log_reg(X_sample_tl, X_test, y_sample_tl, y_test,15)\n",
    "svc(X_sample_tl, X_test, y_sample_tl, y_test,16)\n",
    "knears(X_sample_tl, X_test, y_sample_tl, y_test, 17)\n",
    "decision_tree(X_sample_tl, X_test, y_sample_tl, y_test, 18)\n",
    "xgb(X_sample_tl, X_test, y_sample_tl,y_test, 19)\n",
    "\n",
    "t1 = time.time()\n",
    "\n",
    "print('Time taken:',t1-t0)"
   ]
  },
  {
   "cell_type": "markdown",
   "metadata": {},
   "source": [
    "### 5. OverSampled DataSet - Random Technique"
   ]
  },
  {
   "cell_type": "code",
   "execution_count": 79,
   "metadata": {},
   "outputs": [
    {
     "name": "stdout",
     "output_type": "stream",
     "text": [
      "Time taken: 0.08277201652526855\n"
     ]
    }
   ],
   "source": [
    "# Create Sample\n",
    "t0 = time.time()\n",
    "\n",
    "rus = RandomOverSampler(random_state = 0)\n",
    "X_oversample2, y_oversample2 = rus.fit_sample(X_train, y_train)\n",
    "\n",
    "t1 = time.time()\n",
    "\n",
    "print('Time taken:',t1-t0)"
   ]
  },
  {
   "cell_type": "code",
   "execution_count": 80,
   "metadata": {},
   "outputs": [
    {
     "name": "stdout",
     "output_type": "stream",
     "text": [
      "Time taken: 2958.7173550128937\n"
     ]
    }
   ],
   "source": [
    "# Model Building on Sampled Data  \n",
    "t0 = time.time()\n",
    "\n",
    "log_reg(X_oversample2, X_test, y_oversample2, y_test,20)\n",
    "svc(X_oversample2, X_test, y_oversample2, y_test,21)\n",
    "knears(X_oversample2, X_test, y_oversample2, y_test, 22)\n",
    "decision_tree(X_oversample2, X_test, y_oversample2, y_test, 23)\n",
    "xgb(X_oversample2, X_test, y_oversample2,y_test, 24)\n",
    "\n",
    "t1 = time.time()\n",
    "\n",
    "print('Time taken:',t1-t0)"
   ]
  },
  {
   "cell_type": "markdown",
   "metadata": {},
   "source": [
    "### 6. OverSampled DataSet - SMOTE"
   ]
  },
  {
   "cell_type": "code",
   "execution_count": 89,
   "metadata": {},
   "outputs": [
    {
     "name": "stdout",
     "output_type": "stream",
     "text": [
      "Time taken: 0.10307884216308594\n"
     ]
    }
   ],
   "source": [
    "# Create Sample\n",
    "t0 = time.time()\n",
    "\n",
    "rus = SMOTE()\n",
    "X_smote, y_smote = rus.fit_sample(X_train, y_train)\n",
    "\n",
    "t1 = time.time()\n",
    "\n",
    "print('Time taken:',t1-t0)"
   ]
  },
  {
   "cell_type": "code",
   "execution_count": 92,
   "metadata": {},
   "outputs": [
    {
     "name": "stdout",
     "output_type": "stream",
     "text": [
      "Time taken: 3272.71537399292\n"
     ]
    }
   ],
   "source": [
    "# Model Building on Sampled Data  \n",
    "t0 = time.time()\n",
    "\n",
    "log_reg(X_smote, X_test, y_smote, y_test,25)\n",
    "svc(X_smote, X_test, y_smote, y_test,26)\n",
    "knears(X_smote, X_test, y_smote, y_test, 27)\n",
    "decision_tree(X_smote, X_test, y_smote, y_test, 28)\n",
    "xgb(X_smote, X_test, y_smote,y_test, 29)\n",
    "\n",
    "t1 = time.time()\n",
    "\n",
    "print('Time taken:',t1-t0)"
   ]
  },
  {
   "cell_type": "code",
   "execution_count": 94,
   "metadata": {},
   "outputs": [
    {
     "data": {
      "text/html": [
       "<div>\n",
       "<style scoped>\n",
       "    .dataframe tbody tr th:only-of-type {\n",
       "        vertical-align: middle;\n",
       "    }\n",
       "\n",
       "    .dataframe tbody tr th {\n",
       "        vertical-align: top;\n",
       "    }\n",
       "\n",
       "    .dataframe thead th {\n",
       "        text-align: right;\n",
       "    }\n",
       "</style>\n",
       "<table border=\"1\" class=\"dataframe\">\n",
       "  <thead>\n",
       "    <tr style=\"text-align: right;\">\n",
       "      <th></th>\n",
       "      <th>DataSet</th>\n",
       "      <th>Model</th>\n",
       "      <th>Best Estimator</th>\n",
       "      <th>Cross Val Acc.</th>\n",
       "      <th>Accuracy Score</th>\n",
       "      <th>ROC AUC Score</th>\n",
       "      <th>Recall Score</th>\n",
       "      <th>Precision Score</th>\n",
       "      <th>F1 Score</th>\n",
       "      <th>Confusion Matrix</th>\n",
       "    </tr>\n",
       "  </thead>\n",
       "  <tbody>\n",
       "    <tr>\n",
       "      <th>0</th>\n",
       "      <td>Original</td>\n",
       "      <td>Logistic Regression</td>\n",
       "      <td>[(C, 1), (penalty, l2)]</td>\n",
       "      <td>0.998859</td>\n",
       "      <td>0.999122</td>\n",
       "      <td>0.818094</td>\n",
       "      <td>0.636364</td>\n",
       "      <td>0.875</td>\n",
       "      <td>0.736842</td>\n",
       "      <td>[[5685, 1], [4, 7]]</td>\n",
       "    </tr>\n",
       "    <tr>\n",
       "      <th>1</th>\n",
       "      <td>Original</td>\n",
       "      <td>Support Vectors</td>\n",
       "      <td>[(C, 0.5), (kernel, linear)]</td>\n",
       "      <td>0.999166</td>\n",
       "      <td>0.999298</td>\n",
       "      <td>0.863548</td>\n",
       "      <td>0.727273</td>\n",
       "      <td>0.888889</td>\n",
       "      <td>0.8</td>\n",
       "      <td>[[5685, 1], [3, 8]]</td>\n",
       "    </tr>\n",
       "    <tr>\n",
       "      <th>2</th>\n",
       "      <td>Original</td>\n",
       "      <td>K Neighbors</td>\n",
       "      <td>[(algorithm, auto), (n_neighbors, 9)]</td>\n",
       "      <td>0.998903</td>\n",
       "      <td>0.998947</td>\n",
       "      <td>0.818006</td>\n",
       "      <td>0.636364</td>\n",
       "      <td>0.777778</td>\n",
       "      <td>0.7</td>\n",
       "      <td>[[5684, 2], [4, 7]]</td>\n",
       "    </tr>\n",
       "    <tr>\n",
       "      <th>3</th>\n",
       "      <td>Original</td>\n",
       "      <td>Decision Trees</td>\n",
       "      <td>[(criterion, entropy), (max_depth, 5), (min_sa...</td>\n",
       "      <td>0.998727</td>\n",
       "      <td>0.999298</td>\n",
       "      <td>0.863548</td>\n",
       "      <td>0.727273</td>\n",
       "      <td>0.888889</td>\n",
       "      <td>0.8</td>\n",
       "      <td>[[5685, 1], [3, 8]]</td>\n",
       "    </tr>\n",
       "    <tr>\n",
       "      <th>4</th>\n",
       "      <td>Original</td>\n",
       "      <td>XGBoost</td>\n",
       "      <td>[(criterion, gini), (max_depth, 2), (min_sampl...</td>\n",
       "      <td>0.999166</td>\n",
       "      <td>0.999298</td>\n",
       "      <td>0.863548</td>\n",
       "      <td>0.727273</td>\n",
       "      <td>0.888889</td>\n",
       "      <td>0.8</td>\n",
       "      <td>[[5685, 1], [3, 8]]</td>\n",
       "    </tr>\n",
       "    <tr>\n",
       "      <th>5</th>\n",
       "      <td>US Random</td>\n",
       "      <td>Logistic Regression</td>\n",
       "      <td>[(C, 1), (penalty, l2)]</td>\n",
       "      <td>0.91</td>\n",
       "      <td>0.92382</td>\n",
       "      <td>0.916469</td>\n",
       "      <td>0.909091</td>\n",
       "      <td>0.0225734</td>\n",
       "      <td>0.0440529</td>\n",
       "      <td>[[5253, 433], [1, 10]]</td>\n",
       "    </tr>\n",
       "    <tr>\n",
       "      <th>6</th>\n",
       "      <td>US Random</td>\n",
       "      <td>Support Vectors</td>\n",
       "      <td>[(C, 0.7), (kernel, sigmoid)]</td>\n",
       "      <td>0.9225</td>\n",
       "      <td>0.999298</td>\n",
       "      <td>0.908915</td>\n",
       "      <td>0.818182</td>\n",
       "      <td>0.818182</td>\n",
       "      <td>0.818182</td>\n",
       "      <td>[[5684, 2], [2, 9]]</td>\n",
       "    </tr>\n",
       "    <tr>\n",
       "      <th>7</th>\n",
       "      <td>US Random</td>\n",
       "      <td>K Neighbors</td>\n",
       "      <td>[(algorithm, auto), (n_neighbors, 8)]</td>\n",
       "      <td>0.871795</td>\n",
       "      <td>0.999122</td>\n",
       "      <td>0.908827</td>\n",
       "      <td>0.818182</td>\n",
       "      <td>0.75</td>\n",
       "      <td>0.782609</td>\n",
       "      <td>[[5683, 3], [2, 9]]</td>\n",
       "    </tr>\n",
       "    <tr>\n",
       "      <th>8</th>\n",
       "      <td>US Random</td>\n",
       "      <td>Decision Trees</td>\n",
       "      <td>[(criterion, entropy), (max_depth, 4), (min_sa...</td>\n",
       "      <td>0.8975</td>\n",
       "      <td>0.769177</td>\n",
       "      <td>0.793632</td>\n",
       "      <td>0.818182</td>\n",
       "      <td>0.00680787</td>\n",
       "      <td>0.0135034</td>\n",
       "      <td>[[4373, 1313], [2, 9]]</td>\n",
       "    </tr>\n",
       "    <tr>\n",
       "      <th>9</th>\n",
       "      <td>US Random</td>\n",
       "      <td>XGBoost</td>\n",
       "      <td>[(max_depth, 2)]</td>\n",
       "      <td>0.91</td>\n",
       "      <td>0.959101</td>\n",
       "      <td>0.888778</td>\n",
       "      <td>0.818182</td>\n",
       "      <td>0.0375</td>\n",
       "      <td>0.0717131</td>\n",
       "      <td>[[5455, 231], [2, 9]]</td>\n",
       "    </tr>\n",
       "    <tr>\n",
       "      <th>10</th>\n",
       "      <td>US ClusterCentroids</td>\n",
       "      <td>Logistic Regression</td>\n",
       "      <td>[(C, 0.01), (penalty, l2)]</td>\n",
       "      <td>0.884167</td>\n",
       "      <td>0.99842</td>\n",
       "      <td>0.908475</td>\n",
       "      <td>0.818182</td>\n",
       "      <td>0.5625</td>\n",
       "      <td>0.666667</td>\n",
       "      <td>[[5679, 7], [2, 9]]</td>\n",
       "    </tr>\n",
       "    <tr>\n",
       "      <th>11</th>\n",
       "      <td>US ClusterCentroids</td>\n",
       "      <td>Support Vectors</td>\n",
       "      <td>[(C, 0.9), (kernel, sigmoid)]</td>\n",
       "      <td>0.8975</td>\n",
       "      <td>0.999122</td>\n",
       "      <td>0.908827</td>\n",
       "      <td>0.818182</td>\n",
       "      <td>0.75</td>\n",
       "      <td>0.782609</td>\n",
       "      <td>[[5683, 3], [2, 9]]</td>\n",
       "    </tr>\n",
       "    <tr>\n",
       "      <th>12</th>\n",
       "      <td>US ClusterCentroids</td>\n",
       "      <td>K Neighbors</td>\n",
       "      <td>[(algorithm, auto), (n_neighbors, 9)]</td>\n",
       "      <td>0.871795</td>\n",
       "      <td>0.999122</td>\n",
       "      <td>0.908827</td>\n",
       "      <td>0.818182</td>\n",
       "      <td>0.75</td>\n",
       "      <td>0.782609</td>\n",
       "      <td>[[5683, 3], [2, 9]]</td>\n",
       "    </tr>\n",
       "    <tr>\n",
       "      <th>13</th>\n",
       "      <td>US ClusterCentroids</td>\n",
       "      <td>Decision Trees</td>\n",
       "      <td>[(criterion, gini), (max_depth, 3), (min_sampl...</td>\n",
       "      <td>0.911667</td>\n",
       "      <td>0.60646</td>\n",
       "      <td>0.712116</td>\n",
       "      <td>0.818182</td>\n",
       "      <td>0.00400178</td>\n",
       "      <td>0.0079646</td>\n",
       "      <td>[[3446, 2240], [2, 9]]</td>\n",
       "    </tr>\n",
       "    <tr>\n",
       "      <th>14</th>\n",
       "      <td>US ClusterCentroids</td>\n",
       "      <td>XGBoost</td>\n",
       "      <td>[(max_depth, 2)]</td>\n",
       "      <td>0.924167</td>\n",
       "      <td>0.842373</td>\n",
       "      <td>0.830301</td>\n",
       "      <td>0.818182</td>\n",
       "      <td>0.00994475</td>\n",
       "      <td>0.0196507</td>\n",
       "      <td>[[4790, 896], [2, 9]]</td>\n",
       "    </tr>\n",
       "    <tr>\n",
       "      <th>15</th>\n",
       "      <td>US TomekLinks</td>\n",
       "      <td>Logistic Regression</td>\n",
       "      <td>[(C, 0.1), (penalty, l2)]</td>\n",
       "      <td>0.998903</td>\n",
       "      <td>0.998771</td>\n",
       "      <td>0.772551</td>\n",
       "      <td>0.545455</td>\n",
       "      <td>0.75</td>\n",
       "      <td>0.631579</td>\n",
       "      <td>[[5684, 2], [5, 6]]</td>\n",
       "    </tr>\n",
       "    <tr>\n",
       "      <th>16</th>\n",
       "      <td>US TomekLinks</td>\n",
       "      <td>Support Vectors</td>\n",
       "      <td>[(C, 0.9), (kernel, linear)]</td>\n",
       "      <td>0.999122</td>\n",
       "      <td>0.999122</td>\n",
       "      <td>0.86346</td>\n",
       "      <td>0.727273</td>\n",
       "      <td>0.8</td>\n",
       "      <td>0.761905</td>\n",
       "      <td>[[5684, 2], [3, 8]]</td>\n",
       "    </tr>\n",
       "    <tr>\n",
       "      <th>17</th>\n",
       "      <td>US TomekLinks</td>\n",
       "      <td>K Neighbors</td>\n",
       "      <td>[(algorithm, auto), (n_neighbors, 9)]</td>\n",
       "      <td>0.999034</td>\n",
       "      <td>0.998947</td>\n",
       "      <td>0.818006</td>\n",
       "      <td>0.636364</td>\n",
       "      <td>0.777778</td>\n",
       "      <td>0.7</td>\n",
       "      <td>[[5684, 2], [4, 7]]</td>\n",
       "    </tr>\n",
       "    <tr>\n",
       "      <th>18</th>\n",
       "      <td>US TomekLinks</td>\n",
       "      <td>Decision Trees</td>\n",
       "      <td>[(criterion, entropy), (max_depth, 5), (min_sa...</td>\n",
       "      <td>0.99899</td>\n",
       "      <td>0.999298</td>\n",
       "      <td>0.863548</td>\n",
       "      <td>0.727273</td>\n",
       "      <td>0.888889</td>\n",
       "      <td>0.8</td>\n",
       "      <td>[[5685, 1], [3, 8]]</td>\n",
       "    </tr>\n",
       "    <tr>\n",
       "      <th>19</th>\n",
       "      <td>US TomekLinks</td>\n",
       "      <td>XGBoost</td>\n",
       "      <td>[(max_depth, 3)]</td>\n",
       "      <td>0.999122</td>\n",
       "      <td>0.999298</td>\n",
       "      <td>0.863548</td>\n",
       "      <td>0.727273</td>\n",
       "      <td>0.888889</td>\n",
       "      <td>0.8</td>\n",
       "      <td>[[5685, 1], [3, 8]]</td>\n",
       "    </tr>\n",
       "    <tr>\n",
       "      <th>20</th>\n",
       "      <td>OS Random</td>\n",
       "      <td>Logistic Regression</td>\n",
       "      <td>[(C, 1000), (penalty, l2)]</td>\n",
       "      <td>0.970103</td>\n",
       "      <td>0.969282</td>\n",
       "      <td>0.893878</td>\n",
       "      <td>0.818182</td>\n",
       "      <td>0.0494505</td>\n",
       "      <td>0.0932642</td>\n",
       "      <td>[[5513, 173], [2, 9]]</td>\n",
       "    </tr>\n",
       "    <tr>\n",
       "      <th>21</th>\n",
       "      <td>OS Random</td>\n",
       "      <td>Support Vectors</td>\n",
       "      <td>[(C, 0.9), (kernel, linear)]</td>\n",
       "      <td>0.981139</td>\n",
       "      <td>0.967702</td>\n",
       "      <td>0.893087</td>\n",
       "      <td>0.818182</td>\n",
       "      <td>0.0471204</td>\n",
       "      <td>0.0891089</td>\n",
       "      <td>[[5504, 182], [2, 9]]</td>\n",
       "    </tr>\n",
       "    <tr>\n",
       "      <th>22</th>\n",
       "      <td>OS Random</td>\n",
       "      <td>K Neighbors</td>\n",
       "      <td>[(algorithm, auto), (n_neighbors, 8)]</td>\n",
       "      <td>0.998747</td>\n",
       "      <td>0.99684</td>\n",
       "      <td>0.907684</td>\n",
       "      <td>0.818182</td>\n",
       "      <td>0.36</td>\n",
       "      <td>0.5</td>\n",
       "      <td>[[5670, 16], [2, 9]]</td>\n",
       "    </tr>\n",
       "    <tr>\n",
       "      <th>23</th>\n",
       "      <td>OS Random</td>\n",
       "      <td>Decision Trees</td>\n",
       "      <td>[(criterion, gini), (max_depth, 5), (min_sampl...</td>\n",
       "      <td>0.981424</td>\n",
       "      <td>0.987186</td>\n",
       "      <td>0.902848</td>\n",
       "      <td>0.818182</td>\n",
       "      <td>0.1125</td>\n",
       "      <td>0.197802</td>\n",
       "      <td>[[5615, 71], [2, 9]]</td>\n",
       "    </tr>\n",
       "    <tr>\n",
       "      <th>24</th>\n",
       "      <td>OS Random</td>\n",
       "      <td>XGBoost</td>\n",
       "      <td>[(max_depth, 4)]</td>\n",
       "      <td>0.999824</td>\n",
       "      <td>0.999473</td>\n",
       "      <td>0.909003</td>\n",
       "      <td>0.818182</td>\n",
       "      <td>0.9</td>\n",
       "      <td>0.857143</td>\n",
       "      <td>[[5685, 1], [2, 9]]</td>\n",
       "    </tr>\n",
       "    <tr>\n",
       "      <th>25</th>\n",
       "      <td>OS SMOTE</td>\n",
       "      <td>Logistic Regression</td>\n",
       "      <td>[(C, 1000), (penalty, l2)]</td>\n",
       "      <td>0.974544</td>\n",
       "      <td>0.971564</td>\n",
       "      <td>0.895021</td>\n",
       "      <td>0.818182</td>\n",
       "      <td>0.0532544</td>\n",
       "      <td>0.1</td>\n",
       "      <td>[[5526, 160], [2, 9]]</td>\n",
       "    </tr>\n",
       "    <tr>\n",
       "      <th>26</th>\n",
       "      <td>OS SMOTE</td>\n",
       "      <td>Support Vectors</td>\n",
       "      <td>[(C, 0.9), (kernel, linear)]</td>\n",
       "      <td>0.981666</td>\n",
       "      <td>0.968755</td>\n",
       "      <td>0.893614</td>\n",
       "      <td>0.818182</td>\n",
       "      <td>0.0486486</td>\n",
       "      <td>0.0918367</td>\n",
       "      <td>[[5510, 176], [2, 9]]</td>\n",
       "    </tr>\n",
       "    <tr>\n",
       "      <th>27</th>\n",
       "      <td>OS SMOTE</td>\n",
       "      <td>K Neighbors</td>\n",
       "      <td>[(algorithm, auto), (n_neighbors, 8)]</td>\n",
       "      <td>0.997318</td>\n",
       "      <td>0.994207</td>\n",
       "      <td>0.906365</td>\n",
       "      <td>0.818182</td>\n",
       "      <td>0.225</td>\n",
       "      <td>0.352941</td>\n",
       "      <td>[[5655, 31], [2, 9]]</td>\n",
       "    </tr>\n",
       "    <tr>\n",
       "      <th>28</th>\n",
       "      <td>OS SMOTE</td>\n",
       "      <td>Decision Trees</td>\n",
       "      <td>[(criterion, gini), (max_depth, 5), (min_sampl...</td>\n",
       "      <td>0.978589</td>\n",
       "      <td>0.960857</td>\n",
       "      <td>0.844291</td>\n",
       "      <td>0.727273</td>\n",
       "      <td>0.0350877</td>\n",
       "      <td>0.0669456</td>\n",
       "      <td>[[5466, 220], [3, 8]]</td>\n",
       "    </tr>\n",
       "    <tr>\n",
       "      <th>29</th>\n",
       "      <td>OS SMOTE</td>\n",
       "      <td>XGBoost</td>\n",
       "      <td>[(max_depth, 4)]</td>\n",
       "      <td>0.999692</td>\n",
       "      <td>0.999473</td>\n",
       "      <td>0.909003</td>\n",
       "      <td>0.818182</td>\n",
       "      <td>0.9</td>\n",
       "      <td>0.857143</td>\n",
       "      <td>[[5685, 1], [2, 9]]</td>\n",
       "    </tr>\n",
       "  </tbody>\n",
       "</table>\n",
       "</div>"
      ],
      "text/plain": [
       "                DataSet                Model  \\\n",
       "0              Original  Logistic Regression   \n",
       "1              Original      Support Vectors   \n",
       "2              Original          K Neighbors   \n",
       "3              Original       Decision Trees   \n",
       "4              Original              XGBoost   \n",
       "5             US Random  Logistic Regression   \n",
       "6             US Random      Support Vectors   \n",
       "7             US Random          K Neighbors   \n",
       "8             US Random       Decision Trees   \n",
       "9             US Random              XGBoost   \n",
       "10  US ClusterCentroids  Logistic Regression   \n",
       "11  US ClusterCentroids      Support Vectors   \n",
       "12  US ClusterCentroids          K Neighbors   \n",
       "13  US ClusterCentroids       Decision Trees   \n",
       "14  US ClusterCentroids              XGBoost   \n",
       "15        US TomekLinks  Logistic Regression   \n",
       "16        US TomekLinks      Support Vectors   \n",
       "17        US TomekLinks          K Neighbors   \n",
       "18        US TomekLinks       Decision Trees   \n",
       "19        US TomekLinks              XGBoost   \n",
       "20            OS Random  Logistic Regression   \n",
       "21            OS Random      Support Vectors   \n",
       "22            OS Random          K Neighbors   \n",
       "23            OS Random       Decision Trees   \n",
       "24            OS Random              XGBoost   \n",
       "25             OS SMOTE  Logistic Regression   \n",
       "26             OS SMOTE      Support Vectors   \n",
       "27             OS SMOTE          K Neighbors   \n",
       "28             OS SMOTE       Decision Trees   \n",
       "29             OS SMOTE              XGBoost   \n",
       "\n",
       "                                       Best Estimator Cross Val Acc.  \\\n",
       "0                             [(C, 1), (penalty, l2)]       0.998859   \n",
       "1                        [(C, 0.5), (kernel, linear)]       0.999166   \n",
       "2               [(algorithm, auto), (n_neighbors, 9)]       0.998903   \n",
       "3   [(criterion, entropy), (max_depth, 5), (min_sa...       0.998727   \n",
       "4   [(criterion, gini), (max_depth, 2), (min_sampl...       0.999166   \n",
       "5                             [(C, 1), (penalty, l2)]           0.91   \n",
       "6                       [(C, 0.7), (kernel, sigmoid)]         0.9225   \n",
       "7               [(algorithm, auto), (n_neighbors, 8)]       0.871795   \n",
       "8   [(criterion, entropy), (max_depth, 4), (min_sa...         0.8975   \n",
       "9                                    [(max_depth, 2)]           0.91   \n",
       "10                         [(C, 0.01), (penalty, l2)]       0.884167   \n",
       "11                      [(C, 0.9), (kernel, sigmoid)]         0.8975   \n",
       "12              [(algorithm, auto), (n_neighbors, 9)]       0.871795   \n",
       "13  [(criterion, gini), (max_depth, 3), (min_sampl...       0.911667   \n",
       "14                                   [(max_depth, 2)]       0.924167   \n",
       "15                          [(C, 0.1), (penalty, l2)]       0.998903   \n",
       "16                       [(C, 0.9), (kernel, linear)]       0.999122   \n",
       "17              [(algorithm, auto), (n_neighbors, 9)]       0.999034   \n",
       "18  [(criterion, entropy), (max_depth, 5), (min_sa...        0.99899   \n",
       "19                                   [(max_depth, 3)]       0.999122   \n",
       "20                         [(C, 1000), (penalty, l2)]       0.970103   \n",
       "21                       [(C, 0.9), (kernel, linear)]       0.981139   \n",
       "22              [(algorithm, auto), (n_neighbors, 8)]       0.998747   \n",
       "23  [(criterion, gini), (max_depth, 5), (min_sampl...       0.981424   \n",
       "24                                   [(max_depth, 4)]       0.999824   \n",
       "25                         [(C, 1000), (penalty, l2)]       0.974544   \n",
       "26                       [(C, 0.9), (kernel, linear)]       0.981666   \n",
       "27              [(algorithm, auto), (n_neighbors, 8)]       0.997318   \n",
       "28  [(criterion, gini), (max_depth, 5), (min_sampl...       0.978589   \n",
       "29                                   [(max_depth, 4)]       0.999692   \n",
       "\n",
       "   Accuracy Score ROC AUC Score Recall Score Precision Score   F1 Score  \\\n",
       "0        0.999122      0.818094     0.636364           0.875   0.736842   \n",
       "1        0.999298      0.863548     0.727273        0.888889        0.8   \n",
       "2        0.998947      0.818006     0.636364        0.777778        0.7   \n",
       "3        0.999298      0.863548     0.727273        0.888889        0.8   \n",
       "4        0.999298      0.863548     0.727273        0.888889        0.8   \n",
       "5         0.92382      0.916469     0.909091       0.0225734  0.0440529   \n",
       "6        0.999298      0.908915     0.818182        0.818182   0.818182   \n",
       "7        0.999122      0.908827     0.818182            0.75   0.782609   \n",
       "8        0.769177      0.793632     0.818182      0.00680787  0.0135034   \n",
       "9        0.959101      0.888778     0.818182          0.0375  0.0717131   \n",
       "10        0.99842      0.908475     0.818182          0.5625   0.666667   \n",
       "11       0.999122      0.908827     0.818182            0.75   0.782609   \n",
       "12       0.999122      0.908827     0.818182            0.75   0.782609   \n",
       "13        0.60646      0.712116     0.818182      0.00400178  0.0079646   \n",
       "14       0.842373      0.830301     0.818182      0.00994475  0.0196507   \n",
       "15       0.998771      0.772551     0.545455            0.75   0.631579   \n",
       "16       0.999122       0.86346     0.727273             0.8   0.761905   \n",
       "17       0.998947      0.818006     0.636364        0.777778        0.7   \n",
       "18       0.999298      0.863548     0.727273        0.888889        0.8   \n",
       "19       0.999298      0.863548     0.727273        0.888889        0.8   \n",
       "20       0.969282      0.893878     0.818182       0.0494505  0.0932642   \n",
       "21       0.967702      0.893087     0.818182       0.0471204  0.0891089   \n",
       "22        0.99684      0.907684     0.818182            0.36        0.5   \n",
       "23       0.987186      0.902848     0.818182          0.1125   0.197802   \n",
       "24       0.999473      0.909003     0.818182             0.9   0.857143   \n",
       "25       0.971564      0.895021     0.818182       0.0532544        0.1   \n",
       "26       0.968755      0.893614     0.818182       0.0486486  0.0918367   \n",
       "27       0.994207      0.906365     0.818182           0.225   0.352941   \n",
       "28       0.960857      0.844291     0.727273       0.0350877  0.0669456   \n",
       "29       0.999473      0.909003     0.818182             0.9   0.857143   \n",
       "\n",
       "          Confusion Matrix  \n",
       "0      [[5685, 1], [4, 7]]  \n",
       "1      [[5685, 1], [3, 8]]  \n",
       "2      [[5684, 2], [4, 7]]  \n",
       "3      [[5685, 1], [3, 8]]  \n",
       "4      [[5685, 1], [3, 8]]  \n",
       "5   [[5253, 433], [1, 10]]  \n",
       "6      [[5684, 2], [2, 9]]  \n",
       "7      [[5683, 3], [2, 9]]  \n",
       "8   [[4373, 1313], [2, 9]]  \n",
       "9    [[5455, 231], [2, 9]]  \n",
       "10     [[5679, 7], [2, 9]]  \n",
       "11     [[5683, 3], [2, 9]]  \n",
       "12     [[5683, 3], [2, 9]]  \n",
       "13  [[3446, 2240], [2, 9]]  \n",
       "14   [[4790, 896], [2, 9]]  \n",
       "15     [[5684, 2], [5, 6]]  \n",
       "16     [[5684, 2], [3, 8]]  \n",
       "17     [[5684, 2], [4, 7]]  \n",
       "18     [[5685, 1], [3, 8]]  \n",
       "19     [[5685, 1], [3, 8]]  \n",
       "20   [[5513, 173], [2, 9]]  \n",
       "21   [[5504, 182], [2, 9]]  \n",
       "22    [[5670, 16], [2, 9]]  \n",
       "23    [[5615, 71], [2, 9]]  \n",
       "24     [[5685, 1], [2, 9]]  \n",
       "25   [[5526, 160], [2, 9]]  \n",
       "26   [[5510, 176], [2, 9]]  \n",
       "27    [[5655, 31], [2, 9]]  \n",
       "28   [[5466, 220], [3, 8]]  \n",
       "29     [[5685, 1], [2, 9]]  "
      ]
     },
     "execution_count": 94,
     "metadata": {},
     "output_type": "execute_result"
    }
   ],
   "source": [
    "final_table"
   ]
  },
  {
   "cell_type": "code",
   "execution_count": 93,
   "metadata": {},
   "outputs": [],
   "source": [
    "final_table.to_csv('table.csv', index = False)"
   ]
  },
  {
   "cell_type": "code",
   "execution_count": 95,
   "metadata": {},
   "outputs": [],
   "source": [
    "final_table.to_html('table.html',index = False)"
   ]
  },
  {
   "cell_type": "markdown",
   "metadata": {},
   "source": [
    "# Best Model and Sampling Technique Selection "
   ]
  },
  {
   "cell_type": "markdown",
   "metadata": {},
   "source": [
    "### Choice of Metric\n",
    "\n",
    "Before we get to the the best model, lets understand the confusion matrix we are dealing with in the context of our business problem. \n",
    "\n",
    "Fraud transactions are marked as 1 (Positive/ Presence of Fraud)\n",
    "Non-Fraud transactions are marked as 0 (Negative/ Absence of Fraud)\n",
    "\n",
    "So our Confusion Matrix becomes: \n",
    "\n",
    "True Positives: Acutal Fraud and Predicted Fraud \n",
    "True Negatives: Actual Non-Fraud and Predicted Non-Fraud\n",
    "False Positives: Actual Non-Fruad and Predicted Fraud\n",
    "False Negatives: Actual Fraud and predicted Non-Fraud\n",
    "\n",
    "Since there is always a precision-recall tradeoff, we would like to choose which of these 2 is more important. \n",
    "\n",
    "Given our Business problem, we want to correctly classifying as many actual fraud transactions as possible. Furthermore, we would prefer a non-fraud transaction being predicted as fraud instead of a fraud transaction being predicted as non-fraud. \n",
    "\n",
    "**Thus our primary metric of choice for this problem becomes Recall.**"
   ]
  },
  {
   "cell_type": "markdown",
   "metadata": {},
   "source": [
    "### Choice of Model and Sampling Technique\n",
    "\n",
    "From the final_table, we can see that Logistic Regression on Random Under-Sampled Technique has the best recall score. \n",
    "\n",
    "Based on our explanation on choice of metric, we should select this model. However if we notice the confusion matrix here, 443 transactions were predicted as fraud, out of which 10 were actually fraud. Even though the model did manage to select 91% of actual fraud transactions, in that process we marked way too many non-fraud transactions as fraud. This increases the human work of sitting and working through all the 443 transactions. This model has no precision. This is reflected in the precision as well as F1 Scores of the model. \n",
    "\n",
    "However if we look at the model XGBoost under either oversampling technique, it has a recall of around 82%, but a precision of 90%. What is results too is for every 10 transactions it marks as fraud, 9 are actually fraud. This reduces human effort quite significantly, thus saving time and money for the company. \n",
    "\n",
    "We will prefer XGBoost applied to either OverSampling Technique as the best model for our problem. "
   ]
  },
  {
   "cell_type": "code",
   "execution_count": null,
   "metadata": {},
   "outputs": [],
   "source": []
  }
 ],
 "metadata": {
  "kernelspec": {
   "display_name": "Python 3",
   "language": "python",
   "name": "python3"
  },
  "language_info": {
   "codemirror_mode": {
    "name": "ipython",
    "version": 3
   },
   "file_extension": ".py",
   "mimetype": "text/x-python",
   "name": "python",
   "nbconvert_exporter": "python",
   "pygments_lexer": "ipython3",
   "version": "3.7.6"
  }
 },
 "nbformat": 4,
 "nbformat_minor": 4
}
